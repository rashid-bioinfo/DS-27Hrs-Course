{
 "cells": [
  {
   "cell_type": "markdown",
   "id": "d75d1246-f703-4344-87aa-d3bd3e89ed5c",
   "metadata": {},
   "source": [
    "## 2. Measure of Variability"
   ]
  },
  {
   "cell_type": "code",
   "execution_count": 1,
   "id": "e439ef72-1bfc-4912-8928-523b9b49e293",
   "metadata": {},
   "outputs": [],
   "source": [
    "import numpy as np\n",
    "import pandas as pd\n",
    "import matplotlib.pyplot as plt\n",
    "import seaborn as sns"
   ]
  },
  {
   "cell_type": "code",
   "execution_count": 2,
   "id": "633da246-d1c3-4a3f-a855-7fd384d1bd7f",
   "metadata": {},
   "outputs": [],
   "source": [
    "dataset = pd.read_csv('titanic.csv')"
   ]
  },
  {
   "cell_type": "code",
   "execution_count": 4,
   "id": "23716584-72cd-422c-b464-8430e7421b38",
   "metadata": {},
   "outputs": [
    {
     "data": {
      "text/html": [
       "<div>\n",
       "<style scoped>\n",
       "    .dataframe tbody tr th:only-of-type {\n",
       "        vertical-align: middle;\n",
       "    }\n",
       "\n",
       "    .dataframe tbody tr th {\n",
       "        vertical-align: top;\n",
       "    }\n",
       "\n",
       "    .dataframe thead th {\n",
       "        text-align: right;\n",
       "    }\n",
       "</style>\n",
       "<table border=\"1\" class=\"dataframe\">\n",
       "  <thead>\n",
       "    <tr style=\"text-align: right;\">\n",
       "      <th></th>\n",
       "      <th>Survived</th>\n",
       "      <th>Pclass</th>\n",
       "      <th>Name</th>\n",
       "      <th>Sex</th>\n",
       "      <th>Age</th>\n",
       "      <th>Siblings/Spouses Aboard</th>\n",
       "      <th>Parents/Children Aboard</th>\n",
       "      <th>Fare</th>\n",
       "    </tr>\n",
       "  </thead>\n",
       "  <tbody>\n",
       "    <tr>\n",
       "      <th>0</th>\n",
       "      <td>0</td>\n",
       "      <td>3</td>\n",
       "      <td>Mr. Owen Harris Braund</td>\n",
       "      <td>male</td>\n",
       "      <td>22.0</td>\n",
       "      <td>1</td>\n",
       "      <td>0</td>\n",
       "      <td>7.2500</td>\n",
       "    </tr>\n",
       "    <tr>\n",
       "      <th>1</th>\n",
       "      <td>1</td>\n",
       "      <td>1</td>\n",
       "      <td>Mrs. John Bradley (Florence Briggs Thayer) Cum...</td>\n",
       "      <td>female</td>\n",
       "      <td>38.0</td>\n",
       "      <td>1</td>\n",
       "      <td>0</td>\n",
       "      <td>71.2833</td>\n",
       "    </tr>\n",
       "    <tr>\n",
       "      <th>2</th>\n",
       "      <td>1</td>\n",
       "      <td>3</td>\n",
       "      <td>Miss. Laina Heikkinen</td>\n",
       "      <td>female</td>\n",
       "      <td>26.0</td>\n",
       "      <td>0</td>\n",
       "      <td>0</td>\n",
       "      <td>7.9250</td>\n",
       "    </tr>\n",
       "  </tbody>\n",
       "</table>\n",
       "</div>"
      ],
      "text/plain": [
       "   Survived  Pclass                                               Name  \\\n",
       "0         0       3                             Mr. Owen Harris Braund   \n",
       "1         1       1  Mrs. John Bradley (Florence Briggs Thayer) Cum...   \n",
       "2         1       3                              Miss. Laina Heikkinen   \n",
       "\n",
       "      Sex   Age  Siblings/Spouses Aboard  Parents/Children Aboard     Fare  \n",
       "0    male  22.0                        1                        0   7.2500  \n",
       "1  female  38.0                        1                        0  71.2833  \n",
       "2  female  26.0                        0                        0   7.9250  "
      ]
     },
     "execution_count": 4,
     "metadata": {},
     "output_type": "execute_result"
    }
   ],
   "source": [
    "dataset.head(3)"
   ]
  },
  {
   "cell_type": "markdown",
   "id": "d5d34cf6-5d19-4743-9427-988777845f80",
   "metadata": {},
   "source": [
    "### 2.1 Range"
   ]
  },
  {
   "cell_type": "code",
   "execution_count": 8,
   "id": "9ae7be58-f0c7-4591-af50-7d0628371cf3",
   "metadata": {},
   "outputs": [],
   "source": [
    "min_r = dataset['Age'].min()\n",
    "max_r = dataset['Age'].max()"
   ]
  },
  {
   "cell_type": "code",
   "execution_count": 9,
   "id": "2642b73d-9599-4bfb-8f03-d93daa20d7ce",
   "metadata": {},
   "outputs": [
    {
     "data": {
      "text/plain": [
       "(0.42, 80.0)"
      ]
     },
     "execution_count": 9,
     "metadata": {},
     "output_type": "execute_result"
    }
   ],
   "source": [
    "min_r, max_r"
   ]
  },
  {
   "cell_type": "code",
   "execution_count": 10,
   "id": "a295de4d-334f-4705-9aa7-b28ce3f9e4e7",
   "metadata": {},
   "outputs": [],
   "source": [
    "range = max_r - min_r"
   ]
  },
  {
   "cell_type": "code",
   "execution_count": 11,
   "id": "732d3a53-0a15-404e-8659-73d0d2a47d15",
   "metadata": {},
   "outputs": [
    {
     "data": {
      "text/plain": [
       "79.58"
      ]
     },
     "execution_count": 11,
     "metadata": {},
     "output_type": "execute_result"
    }
   ],
   "source": [
    "range"
   ]
  },
  {
   "cell_type": "markdown",
   "id": "132baa47-7956-4192-a1db-c66a3f1ec409",
   "metadata": {},
   "source": [
    "### 2.2 Mean Absolute Division"
   ]
  },
  {
   "cell_type": "markdown",
   "id": "a5a162e8-71a7-4916-8823-d4e7ee253487",
   "metadata": {},
   "source": [
    "#### To simply print graph"
   ]
  },
  {
   "cell_type": "code",
   "execution_count": 23,
   "id": "1c359ec9-f4b9-44e4-b4e9-2c112a7f051d",
   "metadata": {},
   "outputs": [],
   "source": [
    "sec_a = np.array([75,65,73,68,72,67])\n",
    "sec_b = np.array([90,47,43,96,93,51])\n",
    "ne = np.array([1,2,3,4,5,6])"
   ]
  },
  {
   "cell_type": "code",
   "execution_count": 36,
   "id": "3f31caa3-53a0-4ce4-9697-9f85c2924f90",
   "metadata": {},
   "outputs": [],
   "source": [
    "mean = np.mean(sec_a)"
   ]
  },
  {
   "cell_type": "code",
   "execution_count": 42,
   "id": "ec8a0a04-8f65-4822-ba3d-648f495ae523",
   "metadata": {},
   "outputs": [
    {
     "data": {
      "image/png": "[encoded data removed]",
      "text/plain": [
       "<Figure size 720x216 with 1 Axes>"
      ]
     },
     "metadata": {
      "needs_background": "light"
     },
     "output_type": "display_data"
    }
   ],
   "source": [
    "plt.figure(figsize=(10,3))\n",
    "plt.scatter(sec_a, ne, color=\"blue\", label=\"Sec A\")\n",
    "plt.scatter(sec_b, ne, color=\"red\", label=\"Sec B\")\n",
    "plt.plot([70,70,70,70,70,70], ne, c=\"green\", label=\"Mean\")\n",
    "#plt.plot([mean for i in range(1,7)], ne, c=\"green\", label=\"Mean\")\n",
    "plt.legend()\n",
    "plt.show()"
   ]
  },
  {
   "cell_type": "markdown",
   "id": "7052904d-2eee-483d-89a5-daa531ccbca2",
   "metadata": {},
   "source": [
    "#### To use MAD formula"
   ]
  },
  {
   "cell_type": "code",
   "execution_count": 44,
   "id": "cca29da4-9df3-4115-91f8-65beb1d48bdb",
   "metadata": {},
   "outputs": [
    {
     "data": {
      "text/plain": [
       "array([ 5., -5.,  3., -2.,  2., -3.])"
      ]
     },
     "execution_count": 44,
     "metadata": {},
     "output_type": "execute_result"
    }
   ],
   "source": [
    "# To calculate xi-x\n",
    "sec_b - mean"
   ]
  },
  {
   "cell_type": "code",
   "execution_count": 48,
   "id": "2f7bbe5a-398a-4e9d-98ef-cddfb6807267",
   "metadata": {},
   "outputs": [
    {
     "data": {
      "text/plain": [
       "array([5., 5., 3., 2., 2., 3.])"
      ]
     },
     "execution_count": 48,
     "metadata": {},
     "output_type": "execute_result"
    }
   ],
   "source": [
    "# To calculate |xi-x|\n",
    "np.abs(sec_a -mean)"
   ]
  },
  {
   "cell_type": "code",
   "execution_count": 49,
   "id": "60ecee3d-14a5-45c5-a877-da5cc871fcee",
   "metadata": {},
   "outputs": [
    {
     "data": {
      "text/plain": [
       "20.0"
      ]
     },
     "execution_count": 49,
     "metadata": {},
     "output_type": "execute_result"
    }
   ],
   "source": [
    "# To calculate sigma|xi-x|\n",
    "np.sum(np.abs(sec_a - mean))"
   ]
  },
  {
   "cell_type": "code",
   "execution_count": 51,
   "id": "fcb35df4-d13e-4de8-bcaf-c4296c5640d1",
   "metadata": {},
   "outputs": [],
   "source": [
    "# To calculate sigma|xi-x|/n\n",
    "mad_sec_a = np.sum(np.abs(sec_a - mean))/len(sec_a)"
   ]
  },
  {
   "cell_type": "code",
   "execution_count": 52,
   "id": "a4204e2c-2a75-4150-9ebb-a9e60bc7b3f5",
   "metadata": {},
   "outputs": [],
   "source": [
    "# Likewise we will calculat mean absolute division of sec_b\n",
    "mad_sec_b = np.sum(np.abs(sec_b - mean))/len(sec_b)"
   ]
  },
  {
   "cell_type": "code",
   "execution_count": 53,
   "id": "fb9f7970-7363-471d-865d-916c02a7212c",
   "metadata": {},
   "outputs": [
    {
     "data": {
      "text/plain": [
       "(3.3333333333333335, 23.0)"
      ]
     },
     "execution_count": 53,
     "metadata": {},
     "output_type": "execute_result"
    }
   ],
   "source": [
    "mad_sec_a, mad_sec_b"
   ]
  },
  {
   "cell_type": "markdown",
   "id": "9e060981-d3e3-4965-bebe-39658c2f493e",
   "metadata": {},
   "source": [
    "So you will take sec_a for machine learning model as it contains low mean absolute division"
   ]
  },
  {
   "cell_type": "markdown",
   "id": "85954aa0-381e-4e72-b3c3-d73661fb2ee0",
   "metadata": {},
   "source": [
    "### 2.3 Calculate Standard Deviation and Variance"
   ]
  },
  {
   "cell_type": "code",
   "execution_count": 55,
   "id": "dcbce471-609a-47c8-982a-db941f249708",
   "metadata": {},
   "outputs": [
    {
     "data": {
      "text/plain": [
       "(3.559026084010437, 23.18045153428495)"
      ]
     },
     "execution_count": 55,
     "metadata": {},
     "output_type": "execute_result"
    }
   ],
   "source": [
    "# To calculate standard deviation of data of section A and section B\n",
    "np.std(sec_a), np.std(sec_b)"
   ]
  },
  {
   "cell_type": "code",
   "execution_count": 56,
   "id": "85ae8b84-006f-450b-8509-2c059861e014",
   "metadata": {},
   "outputs": [
    {
     "data": {
      "text/plain": [
       "(12.666666666666666, 537.3333333333334)"
      ]
     },
     "execution_count": 56,
     "metadata": {},
     "output_type": "execute_result"
    }
   ],
   "source": [
    "# To calculate variance of data of section A and section B\n",
    "np.var(sec_a), np.var(sec_b)"
   ]
  },
  {
   "cell_type": "markdown",
   "id": "af09e221-21f0-49ee-898b-05d662ae10f1",
   "metadata": {},
   "source": [
    "So We will take data of section A becuase it has low variance as well as less standard deviation"
   ]
  },
  {
   "cell_type": "markdown",
   "id": "c850ae94-870a-4dd1-940f-11c8f559da90",
   "metadata": {},
   "source": [
    "#### To calculate std and var on real world data"
   ]
  },
  {
   "cell_type": "code",
   "execution_count": 58,
   "id": "4314549a-b640-449d-857f-6b957415193b",
   "metadata": {},
   "outputs": [],
   "source": [
    "dataset = pd.read_csv('titanic.csv')"
   ]
  },
  {
   "cell_type": "code",
   "execution_count": 60,
   "id": "cec2b2a9-1050-4d50-846e-9232b32e4275",
   "metadata": {},
   "outputs": [
    {
     "data": {
      "text/html": [
       "<div>\n",
       "<style scoped>\n",
       "    .dataframe tbody tr th:only-of-type {\n",
       "        vertical-align: middle;\n",
       "    }\n",
       "\n",
       "    .dataframe tbody tr th {\n",
       "        vertical-align: top;\n",
       "    }\n",
       "\n",
       "    .dataframe thead th {\n",
       "        text-align: right;\n",
       "    }\n",
       "</style>\n",
       "<table border=\"1\" class=\"dataframe\">\n",
       "  <thead>\n",
       "    <tr style=\"text-align: right;\">\n",
       "      <th></th>\n",
       "      <th>Survived</th>\n",
       "      <th>Pclass</th>\n",
       "      <th>Name</th>\n",
       "      <th>Sex</th>\n",
       "      <th>Age</th>\n",
       "      <th>Siblings/Spouses Aboard</th>\n",
       "      <th>Parents/Children Aboard</th>\n",
       "      <th>Fare</th>\n",
       "    </tr>\n",
       "  </thead>\n",
       "  <tbody>\n",
       "    <tr>\n",
       "      <th>0</th>\n",
       "      <td>0</td>\n",
       "      <td>3</td>\n",
       "      <td>Mr. Owen Harris Braund</td>\n",
       "      <td>male</td>\n",
       "      <td>22.0</td>\n",
       "      <td>1</td>\n",
       "      <td>0</td>\n",
       "      <td>7.2500</td>\n",
       "    </tr>\n",
       "    <tr>\n",
       "      <th>1</th>\n",
       "      <td>1</td>\n",
       "      <td>1</td>\n",
       "      <td>Mrs. John Bradley (Florence Briggs Thayer) Cum...</td>\n",
       "      <td>female</td>\n",
       "      <td>38.0</td>\n",
       "      <td>1</td>\n",
       "      <td>0</td>\n",
       "      <td>71.2833</td>\n",
       "    </tr>\n",
       "    <tr>\n",
       "      <th>2</th>\n",
       "      <td>1</td>\n",
       "      <td>3</td>\n",
       "      <td>Miss. Laina Heikkinen</td>\n",
       "      <td>female</td>\n",
       "      <td>26.0</td>\n",
       "      <td>0</td>\n",
       "      <td>0</td>\n",
       "      <td>7.9250</td>\n",
       "    </tr>\n",
       "  </tbody>\n",
       "</table>\n",
       "</div>"
      ],
      "text/plain": [
       "   Survived  Pclass                                               Name  \\\n",
       "0         0       3                             Mr. Owen Harris Braund   \n",
       "1         1       1  Mrs. John Bradley (Florence Briggs Thayer) Cum...   \n",
       "2         1       3                              Miss. Laina Heikkinen   \n",
       "\n",
       "      Sex   Age  Siblings/Spouses Aboard  Parents/Children Aboard     Fare  \n",
       "0    male  22.0                        1                        0   7.2500  \n",
       "1  female  38.0                        1                        0  71.2833  \n",
       "2  female  26.0                        0                        0   7.9250  "
      ]
     },
     "execution_count": 60,
     "metadata": {},
     "output_type": "execute_result"
    }
   ],
   "source": [
    "dataset.head(3)"
   ]
  },
  {
   "cell_type": "code",
   "execution_count": 61,
   "id": "e34b9656-7949-4c89-b6e7-1fb8d66ba2be",
   "metadata": {},
   "outputs": [
    {
     "data": {
      "text/plain": [
       "199.42829701227413"
      ]
     },
     "execution_count": 61,
     "metadata": {},
     "output_type": "execute_result"
    }
   ],
   "source": [
    "dataset['Age'].var()"
   ]
  },
  {
   "cell_type": "code",
   "execution_count": 64,
   "id": "253305d1-8939-4795-9d54-7039a20fae7e",
   "metadata": {},
   "outputs": [
    {
     "data": {
      "text/plain": [
       "14.12190840546256"
      ]
     },
     "execution_count": 64,
     "metadata": {},
     "output_type": "execute_result"
    }
   ],
   "source": [
    "dataset['Age'].std()"
   ]
  },
  {
   "cell_type": "code",
   "execution_count": 63,
   "id": "d094c72d-8277-4fd5-9ba7-b78f82675483",
   "metadata": {},
   "outputs": [
    {
     "data": {
      "image/png": "[encoded data removed]",
      "text/plain": [
       "<Figure size 432x288 with 1 Axes>"
      ]
     },
     "metadata": {
      "needs_background": "light"
     },
     "output_type": "display_data"
    }
   ],
   "source": [
    "sns.histplot(x='Age', data=dataset)\n",
    "plt.show()"
   ]
  },
  {
   "cell_type": "code",
   "execution_count": 65,
   "id": "0bb9b019-169b-4f97-a5c5-93ba12b6e4c0",
   "metadata": {},
   "outputs": [
    {
     "data": {
      "text/html": [
       "<div>\n",
       "<style scoped>\n",
       "    .dataframe tbody tr th:only-of-type {\n",
       "        vertical-align: middle;\n",
       "    }\n",
       "\n",
       "    .dataframe tbody tr th {\n",
       "        vertical-align: top;\n",
       "    }\n",
       "\n",
       "    .dataframe thead th {\n",
       "        text-align: right;\n",
       "    }\n",
       "</style>\n",
       "<table border=\"1\" class=\"dataframe\">\n",
       "  <thead>\n",
       "    <tr style=\"text-align: right;\">\n",
       "      <th></th>\n",
       "      <th>Survived</th>\n",
       "      <th>Pclass</th>\n",
       "      <th>Age</th>\n",
       "      <th>Siblings/Spouses Aboard</th>\n",
       "      <th>Parents/Children Aboard</th>\n",
       "      <th>Fare</th>\n",
       "    </tr>\n",
       "  </thead>\n",
       "  <tbody>\n",
       "    <tr>\n",
       "      <th>count</th>\n",
       "      <td>887.000000</td>\n",
       "      <td>887.000000</td>\n",
       "      <td>887.000000</td>\n",
       "      <td>887.000000</td>\n",
       "      <td>887.000000</td>\n",
       "      <td>887.00000</td>\n",
       "    </tr>\n",
       "    <tr>\n",
       "      <th>mean</th>\n",
       "      <td>0.385569</td>\n",
       "      <td>2.305524</td>\n",
       "      <td>29.471443</td>\n",
       "      <td>0.525366</td>\n",
       "      <td>0.383315</td>\n",
       "      <td>32.30542</td>\n",
       "    </tr>\n",
       "    <tr>\n",
       "      <th>std</th>\n",
       "      <td>0.487004</td>\n",
       "      <td>0.836662</td>\n",
       "      <td>14.121908</td>\n",
       "      <td>1.104669</td>\n",
       "      <td>0.807466</td>\n",
       "      <td>49.78204</td>\n",
       "    </tr>\n",
       "    <tr>\n",
       "      <th>min</th>\n",
       "      <td>0.000000</td>\n",
       "      <td>1.000000</td>\n",
       "      <td>0.420000</td>\n",
       "      <td>0.000000</td>\n",
       "      <td>0.000000</td>\n",
       "      <td>0.00000</td>\n",
       "    </tr>\n",
       "    <tr>\n",
       "      <th>25%</th>\n",
       "      <td>0.000000</td>\n",
       "      <td>2.000000</td>\n",
       "      <td>20.250000</td>\n",
       "      <td>0.000000</td>\n",
       "      <td>0.000000</td>\n",
       "      <td>7.92500</td>\n",
       "    </tr>\n",
       "    <tr>\n",
       "      <th>50%</th>\n",
       "      <td>0.000000</td>\n",
       "      <td>3.000000</td>\n",
       "      <td>28.000000</td>\n",
       "      <td>0.000000</td>\n",
       "      <td>0.000000</td>\n",
       "      <td>14.45420</td>\n",
       "    </tr>\n",
       "    <tr>\n",
       "      <th>75%</th>\n",
       "      <td>1.000000</td>\n",
       "      <td>3.000000</td>\n",
       "      <td>38.000000</td>\n",
       "      <td>1.000000</td>\n",
       "      <td>0.000000</td>\n",
       "      <td>31.13750</td>\n",
       "    </tr>\n",
       "    <tr>\n",
       "      <th>max</th>\n",
       "      <td>1.000000</td>\n",
       "      <td>3.000000</td>\n",
       "      <td>80.000000</td>\n",
       "      <td>8.000000</td>\n",
       "      <td>6.000000</td>\n",
       "      <td>512.32920</td>\n",
       "    </tr>\n",
       "  </tbody>\n",
       "</table>\n",
       "</div>"
      ],
      "text/plain": [
       "         Survived      Pclass         Age  Siblings/Spouses Aboard  \\\n",
       "count  887.000000  887.000000  887.000000               887.000000   \n",
       "mean     0.385569    2.305524   29.471443                 0.525366   \n",
       "std      0.487004    0.836662   14.121908                 1.104669   \n",
       "min      0.000000    1.000000    0.420000                 0.000000   \n",
       "25%      0.000000    2.000000   20.250000                 0.000000   \n",
       "50%      0.000000    3.000000   28.000000                 0.000000   \n",
       "75%      1.000000    3.000000   38.000000                 1.000000   \n",
       "max      1.000000    3.000000   80.000000                 8.000000   \n",
       "\n",
       "       Parents/Children Aboard       Fare  \n",
       "count               887.000000  887.00000  \n",
       "mean                  0.383315   32.30542  \n",
       "std                   0.807466   49.78204  \n",
       "min                   0.000000    0.00000  \n",
       "25%                   0.000000    7.92500  \n",
       "50%                   0.000000   14.45420  \n",
       "75%                   0.000000   31.13750  \n",
       "max                   6.000000  512.32920  "
      ]
     },
     "execution_count": 65,
     "metadata": {},
     "output_type": "execute_result"
    }
   ],
   "source": [
    "dataset.describe()"
   ]
  },
  {
   "cell_type": "code",
   "execution_count": null,
   "id": "aa55e36b-5c28-4a37-b99d-2b0da78ee956",
   "metadata": {},
   "outputs": [],
   "source": []
  }
 ],
 "metadata": {
  "kernelspec": {
   "display_name": "Python 3 (ipykernel)",
   "language": "python",
   "name": "python3"
  },
  "language_info": {
   "codemirror_mode": {
    "name": "ipython",
    "version": 3
   },
   "file_extension": ".py",
   "mimetype": "text/x-python",
   "name": "python",
   "nbconvert_exporter": "python",
   "pygments_lexer": "ipython3",
   "version": "3.9.7"
  }
 },
 "nbformat": 4,
 "nbformat_minor": 5
}
