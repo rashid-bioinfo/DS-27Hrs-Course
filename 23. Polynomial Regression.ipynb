{
 "cells": [
  {
   "cell_type": "markdown",
   "id": "23b4645c-41aa-461a-9a67-f070f7153878",
   "metadata": {},
   "source": [
    "# 23. Polynomial Regression"
   ]
  },
  {
   "cell_type": "markdown",
   "id": "8ec31144-c5d7-4203-81e3-ef002af101cd",
   "metadata": {},
   "source": [
    " - When data is not following any linearity\n",
    " - Polynomial regression is a regression algorithm that models the relationshi between a dependent(y)and independent variable(x) as nth degree polynomial\n",
    " - **Y = b0 + b1x1 + b2x1^2 + b3x1^3 + .... + bnx1^n**"
   ]
  },
  {
   "cell_type": "code",
   "execution_count": 2,
   "id": "92f114aa-b049-402a-8439-e0f8c7c74d4b",
   "metadata": {},
   "outputs": [],
   "source": [
    "import pandas as pd\n",
    "import matplotlib.pyplot as plt\n",
    "import seaborn as sns"
   ]
  },
  {
   "cell_type": "code",
   "execution_count": 4,
   "id": "f28a0f04-5667-43d6-bcef-604dbcb90048",
   "metadata": {},
   "outputs": [
    {
     "data": {
      "text/html": [
       "<div>\n",
       "<style scoped>\n",
       "    .dataframe tbody tr th:only-of-type {\n",
       "        vertical-align: middle;\n",
       "    }\n",
       "\n",
       "    .dataframe tbody tr th {\n",
       "        vertical-align: top;\n",
       "    }\n",
       "\n",
       "    .dataframe thead th {\n",
       "        text-align: right;\n",
       "    }\n",
       "</style>\n",
       "<table border=\"1\" class=\"dataframe\">\n",
       "  <thead>\n",
       "    <tr style=\"text-align: right;\">\n",
       "      <th></th>\n",
       "      <th>Level</th>\n",
       "      <th>Salary</th>\n",
       "    </tr>\n",
       "  </thead>\n",
       "  <tbody>\n",
       "    <tr>\n",
       "      <th>0</th>\n",
       "      <td>1</td>\n",
       "      <td>45000</td>\n",
       "    </tr>\n",
       "    <tr>\n",
       "      <th>1</th>\n",
       "      <td>2</td>\n",
       "      <td>50000</td>\n",
       "    </tr>\n",
       "    <tr>\n",
       "      <th>2</th>\n",
       "      <td>3</td>\n",
       "      <td>60000</td>\n",
       "    </tr>\n",
       "  </tbody>\n",
       "</table>\n",
       "</div>"
      ],
      "text/plain": [
       "   Level  Salary\n",
       "0      1   45000\n",
       "1      2   50000\n",
       "2      3   60000"
      ]
     },
     "execution_count": 4,
     "metadata": {},
     "output_type": "execute_result"
    }
   ],
   "source": [
    "dataset = pd.read_csv(r'Data/polynomial.csv')\n",
    "dataset.head(3)"
   ]
  },
  {
   "cell_type": "code",
   "execution_count": 8,
   "id": "19dab2c9-21e6-458d-b84f-10dd7ef4cf51",
   "metadata": {},
   "outputs": [
    {
     "data": {
      "image/png": "[encoded data removed]",
      "text/plain": [
       "<Figure size 432x288 with 1 Axes>"
      ]
     },
     "metadata": {
      "needs_background": "light"
     },
     "output_type": "display_data"
    }
   ],
   "source": [
    "plt.scatter(dataset[\"Level\"], dataset[\"Salary\"])\n",
    "plt.xlabel(\"Level\")\n",
    "plt.ylabel(\"Salary\")\n",
    "plt.show()"
   ]
  },
  {
   "cell_type": "markdown",
   "id": "66837fd3-82e3-4b48-a3f2-763e71a8fba3",
   "metadata": {},
   "source": [
    "- So this graph is showing that data is not linear"
   ]
  },
  {
   "cell_type": "markdown",
   "id": "6fbe3cbf-44b0-4d60-9fb3-b73f68b8f1d5",
   "metadata": {},
   "source": [
    "![](Images/polynomial-vs-linear-regression.jpg)"
   ]
  },
  {
   "cell_type": "markdown",
   "id": "8680d687-2be9-4d59-bbe5-cc1e23e0c058",
   "metadata": {},
   "source": [
    "**To check correlation**"
   ]
  },
  {
   "cell_type": "code",
   "execution_count": 6,
   "id": "83db98d3-3b04-423d-956d-38211569bfa4",
   "metadata": {},
   "outputs": [
    {
     "data": {
      "text/html": [
       "<div>\n",
       "<style scoped>\n",
       "    .dataframe tbody tr th:only-of-type {\n",
       "        vertical-align: middle;\n",
       "    }\n",
       "\n",
       "    .dataframe tbody tr th {\n",
       "        vertical-align: top;\n",
       "    }\n",
       "\n",
       "    .dataframe thead th {\n",
       "        text-align: right;\n",
       "    }\n",
       "</style>\n",
       "<table border=\"1\" class=\"dataframe\">\n",
       "  <thead>\n",
       "    <tr style=\"text-align: right;\">\n",
       "      <th></th>\n",
       "      <th>Level</th>\n",
       "      <th>Salary</th>\n",
       "    </tr>\n",
       "  </thead>\n",
       "  <tbody>\n",
       "    <tr>\n",
       "      <th>Level</th>\n",
       "      <td>1.000000</td>\n",
       "      <td>0.817949</td>\n",
       "    </tr>\n",
       "    <tr>\n",
       "      <th>Salary</th>\n",
       "      <td>0.817949</td>\n",
       "      <td>1.000000</td>\n",
       "    </tr>\n",
       "  </tbody>\n",
       "</table>\n",
       "</div>"
      ],
      "text/plain": [
       "           Level    Salary\n",
       "Level   1.000000  0.817949\n",
       "Salary  0.817949  1.000000"
      ]
     },
     "execution_count": 6,
     "metadata": {},
     "output_type": "execute_result"
    }
   ],
   "source": [
    "dataset.corr()"
   ]
  },
  {
   "cell_type": "markdown",
   "id": "a6f4393a-555d-4b8c-b2ca-1f561a704ce5",
   "metadata": {},
   "source": [
    "**Separate data into input and output**"
   ]
  },
  {
   "cell_type": "code",
   "execution_count": 9,
   "id": "278e9ef0-aee8-4a9a-a1bc-005bf5755da9",
   "metadata": {},
   "outputs": [],
   "source": [
    "# Remember that data should be multidimensional\n",
    "x = dataset[['Level']]\n",
    "y = dataset['Salary']"
   ]
  },
  {
   "cell_type": "markdown",
   "id": "0a2cb38a-5453-4bec-ba3c-59a801c685f6",
   "metadata": {},
   "source": [
    "**Convert data into polynomial nature**"
   ]
  },
  {
   "cell_type": "code",
   "execution_count": 10,
   "id": "56e40212-c614-4b7f-a4db-da193e3a96b1",
   "metadata": {},
   "outputs": [],
   "source": [
    "from sklearn.preprocessing import PolynomialFeatures"
   ]
  },
  {
   "cell_type": "code",
   "execution_count": 31,
   "id": "58d5c842-6b32-4d2f-b244-622f518e7d8c",
   "metadata": {},
   "outputs": [
    {
     "data": {
      "text/plain": [
       "array([[1.000e+00, 1.000e+00, 1.000e+00, 1.000e+00, 1.000e+00, 1.000e+00,\n",
       "        1.000e+00, 1.000e+00, 1.000e+00, 1.000e+00],\n",
       "       [1.000e+00, 1.000e+00, 2.000e+00, 4.000e+00, 1.000e+00, 2.000e+00,\n",
       "        4.000e+00, 4.000e+00, 8.000e+00, 1.600e+01],\n",
       "       [1.000e+00, 1.000e+00, 3.000e+00, 9.000e+00, 1.000e+00, 3.000e+00,\n",
       "        9.000e+00, 9.000e+00, 2.700e+01, 8.100e+01],\n",
       "       [1.000e+00, 1.000e+00, 4.000e+00, 1.600e+01, 1.000e+00, 4.000e+00,\n",
       "        1.600e+01, 1.600e+01, 6.400e+01, 2.560e+02],\n",
       "       [1.000e+00, 1.000e+00, 5.000e+00, 2.500e+01, 1.000e+00, 5.000e+00,\n",
       "        2.500e+01, 2.500e+01, 1.250e+02, 6.250e+02],\n",
       "       [1.000e+00, 1.000e+00, 6.000e+00, 3.600e+01, 1.000e+00, 6.000e+00,\n",
       "        3.600e+01, 3.600e+01, 2.160e+02, 1.296e+03],\n",
       "       [1.000e+00, 1.000e+00, 7.000e+00, 4.900e+01, 1.000e+00, 7.000e+00,\n",
       "        4.900e+01, 4.900e+01, 3.430e+02, 2.401e+03],\n",
       "       [1.000e+00, 1.000e+00, 8.000e+00, 6.400e+01, 1.000e+00, 8.000e+00,\n",
       "        6.400e+01, 6.400e+01, 5.120e+02, 4.096e+03],\n",
       "       [1.000e+00, 1.000e+00, 9.000e+00, 8.100e+01, 1.000e+00, 9.000e+00,\n",
       "        8.100e+01, 8.100e+01, 7.290e+02, 6.561e+03],\n",
       "       [1.000e+00, 1.000e+00, 1.000e+01, 1.000e+02, 1.000e+00, 1.000e+01,\n",
       "        1.000e+02, 1.000e+02, 1.000e+03, 1.000e+04]])"
      ]
     },
     "execution_count": 31,
     "metadata": {},
     "output_type": "execute_result"
    }
   ],
   "source": [
    "# Change the degree to 2 and so on, depend on your need, to make the model more accurate\n",
    "pf = PolynomialFeatures(degree=2)\n",
    "pf.fit(x)\n",
    "x = pf.transform(x)\n",
    "x"
   ]
  },
  {
   "cell_type": "markdown",
   "id": "a6babf10-ca93-4712-8bcb-4352d27ee54c",
   "metadata": {},
   "source": [
    "**Split data into train and test**"
   ]
  },
  {
   "cell_type": "code",
   "execution_count": 13,
   "id": "c379d93c-1fdb-4c65-965a-730874532307",
   "metadata": {},
   "outputs": [],
   "source": [
    "from sklearn.model_selection import train_test_split"
   ]
  },
  {
   "cell_type": "code",
   "execution_count": 18,
   "id": "d14da4ce-c4c4-4944-a90b-cd35cb3a804c",
   "metadata": {},
   "outputs": [],
   "source": [
    "x_train, x_test, y_train, y_test = train_test_split(x,y,test_size=0.2, random_state=42)"
   ]
  },
  {
   "cell_type": "markdown",
   "id": "6298943c-a18b-49d2-89ae-db46c1e248bb",
   "metadata": {},
   "source": [
    "**Build model using polynomial regression**"
   ]
  },
  {
   "cell_type": "code",
   "execution_count": 19,
   "id": "795cf4c3-969b-4406-9091-dbc22c4b4a5b",
   "metadata": {},
   "outputs": [],
   "source": [
    "from sklearn.linear_model import LinearRegression"
   ]
  },
  {
   "cell_type": "code",
   "execution_count": 20,
   "id": "2225795c-691f-49fc-a909-ccf1552ef29e",
   "metadata": {},
   "outputs": [
    {
     "data": {
      "text/html": [
       "<style>#sk-container-id-2 {color: black;background-color: white;}#sk-container-id-2 pre{padding: 0;}#sk-container-id-2 div.sk-toggleable {background-color: white;}#sk-container-id-2 label.sk-toggleable__label {cursor: pointer;display: block;width: 100%;margin-bottom: 0;padding: 0.3em;box-sizing: border-box;text-align: center;}#sk-container-id-2 label.sk-toggleable__label-arrow:before {content: \"▸\";float: left;margin-right: 0.25em;color: #696969;}#sk-container-id-2 label.sk-toggleable__label-arrow:hover:before {color: black;}#sk-container-id-2 div.sk-estimator:hover label.sk-toggleable__label-arrow:before {color: black;}#sk-container-id-2 div.sk-toggleable__content {max-height: 0;max-width: 0;overflow: hidden;text-align: left;background-color: #f0f8ff;}#sk-container-id-2 div.sk-toggleable__content pre {margin: 0.2em;color: black;border-radius: 0.25em;background-color: #f0f8ff;}#sk-container-id-2 input.sk-toggleable__control:checked~div.sk-toggleable__content {max-height: 200px;max-width: 100%;overflow: auto;}#sk-container-id-2 input.sk-toggleable__control:checked~label.sk-toggleable__label-arrow:before {content: \"▾\";}#sk-container-id-2 div.sk-estimator input.sk-toggleable__control:checked~label.sk-toggleable__label {background-color: #d4ebff;}#sk-container-id-2 div.sk-label input.sk-toggleable__control:checked~label.sk-toggleable__label {background-color: #d4ebff;}#sk-container-id-2 input.sk-hidden--visually {border: 0;clip: rect(1px 1px 1px 1px);clip: rect(1px, 1px, 1px, 1px);height: 1px;margin: -1px;overflow: hidden;padding: 0;position: absolute;width: 1px;}#sk-container-id-2 div.sk-estimator {font-family: monospace;background-color: #f0f8ff;border: 1px dotted black;border-radius: 0.25em;box-sizing: border-box;margin-bottom: 0.5em;}#sk-container-id-2 div.sk-estimator:hover {background-color: #d4ebff;}#sk-container-id-2 div.sk-parallel-item::after {content: \"\";width: 100%;border-bottom: 1px solid gray;flex-grow: 1;}#sk-container-id-2 div.sk-label:hover label.sk-toggleable__label {background-color: #d4ebff;}#sk-container-id-2 div.sk-serial::before {content: \"\";position: absolute;border-left: 1px solid gray;box-sizing: border-box;top: 0;bottom: 0;left: 50%;z-index: 0;}#sk-container-id-2 div.sk-serial {display: flex;flex-direction: column;align-items: center;background-color: white;padding-right: 0.2em;padding-left: 0.2em;position: relative;}#sk-container-id-2 div.sk-item {position: relative;z-index: 1;}#sk-container-id-2 div.sk-parallel {display: flex;align-items: stretch;justify-content: center;background-color: white;position: relative;}#sk-container-id-2 div.sk-item::before, #sk-container-id-2 div.sk-parallel-item::before {content: \"\";position: absolute;border-left: 1px solid gray;box-sizing: border-box;top: 0;bottom: 0;left: 50%;z-index: -1;}#sk-container-id-2 div.sk-parallel-item {display: flex;flex-direction: column;z-index: 1;position: relative;background-color: white;}#sk-container-id-2 div.sk-parallel-item:first-child::after {align-self: flex-end;width: 50%;}#sk-container-id-2 div.sk-parallel-item:last-child::after {align-self: flex-start;width: 50%;}#sk-container-id-2 div.sk-parallel-item:only-child::after {width: 0;}#sk-container-id-2 div.sk-dashed-wrapped {border: 1px dashed gray;margin: 0 0.4em 0.5em 0.4em;box-sizing: border-box;padding-bottom: 0.4em;background-color: white;}#sk-container-id-2 div.sk-label label {font-family: monospace;font-weight: bold;display: inline-block;line-height: 1.2em;}#sk-container-id-2 div.sk-label-container {text-align: center;}#sk-container-id-2 div.sk-container {/* jupyter's `normalize.less` sets `[hidden] { display: none; }` but bootstrap.min.css set `[hidden] { display: none !important; }` so we also need the `!important` here to be able to override the default hidden behavior on the sphinx rendered scikit-learn.org. See: https://github.com/scikit-learn/scikit-learn/issues/21755 */display: inline-block !important;position: relative;}#sk-container-id-2 div.sk-text-repr-fallback {display: none;}</style><div id=\"sk-container-id-2\" class=\"sk-top-container\"><div class=\"sk-text-repr-fallback\"><pre>LinearRegression()</pre><b>In a Jupyter environment, please rerun this cell to show the HTML representation or trust the notebook. <br />On GitHub, the HTML representation is unable to render, please try loading this page with nbviewer.org.</b></div><div class=\"sk-container\" hidden><div class=\"sk-item\"><div class=\"sk-estimator sk-toggleable\"><input class=\"sk-toggleable__control sk-hidden--visually\" id=\"sk-estimator-id-2\" type=\"checkbox\" checked><label for=\"sk-estimator-id-2\" class=\"sk-toggleable__label sk-toggleable__label-arrow\">LinearRegression</label><div class=\"sk-toggleable__content\"><pre>LinearRegression()</pre></div></div></div></div></div>"
      ],
      "text/plain": [
       "LinearRegression()"
      ]
     },
     "execution_count": 20,
     "metadata": {},
     "output_type": "execute_result"
    }
   ],
   "source": [
    "lr = LinearRegression()\n",
    "lr.fit(x_train, y_train)"
   ]
  },
  {
   "cell_type": "markdown",
   "id": "8ab2ae42-deb2-45fc-9e0f-81e553a1e218",
   "metadata": {},
   "source": [
    "**Check model accuracy**"
   ]
  },
  {
   "cell_type": "code",
   "execution_count": 22,
   "id": "b65b9987-72d5-49e1-8d67-2c119abdf0bf",
   "metadata": {},
   "outputs": [
    {
     "data": {
      "text/plain": [
       "76.66492889299911"
      ]
     },
     "execution_count": 22,
     "metadata": {},
     "output_type": "execute_result"
    }
   ],
   "source": [
    "lr.score(x_test, y_test)*100"
   ]
  },
  {
   "cell_type": "markdown",
   "id": "b0c3d01d-cf8c-4f61-9e7f-ee35770bba46",
   "metadata": {},
   "source": [
    "**Draw Prediction Line**"
   ]
  },
  {
   "cell_type": "code",
   "execution_count": 23,
   "id": "515ec8eb-746d-4383-912c-53f2872fe21f",
   "metadata": {},
   "outputs": [
    {
     "data": {
      "text/plain": [
       "array([114155.94968909,  38027.48728095,   2903.12323346,   8782.85754664,\n",
       "        55666.69022046, 143554.62125495, 272446.65065008, 442342.77840588,\n",
       "       653243.00452233, 905147.32899944])"
      ]
     },
     "execution_count": 23,
     "metadata": {},
     "output_type": "execute_result"
    }
   ],
   "source": [
    "pred = lr.predict(x)\n",
    "pred"
   ]
  },
  {
   "cell_type": "code",
   "execution_count": 26,
   "id": "2dbe1b51-7157-4076-b8e8-ca28d1c3d7fe",
   "metadata": {},
   "outputs": [
    {
     "data": {
      "image/png": "[encoded data removed]",
      "text/plain": [
       "<Figure size 432x288 with 1 Axes>"
      ]
     },
     "metadata": {
      "needs_background": "light"
     },
     "output_type": "display_data"
    }
   ],
   "source": [
    "plt.scatter(dataset[\"Level\"], dataset[\"Salary\"])\n",
    "plt.plot(dataset['Level'], pred, c='red')\n",
    "plt.xlabel(\"Level\")\n",
    "plt.ylabel(\"Salary\")\n",
    "plt.legend([\"Original data\", \"Prediction Line\"])\n",
    "plt.show()"
   ]
  },
  {
   "cell_type": "markdown",
   "id": "20a03ab9-2edb-4511-9d08-496d6a2333bb",
   "metadata": {},
   "source": [
    "**Remember, before testing any data, you have to convert it into polynomial feature**, then use it for predcition, like below:"
   ]
  },
  {
   "cell_type": "code",
   "execution_count": 29,
   "id": "b73bd646-b6bc-4065-8f83-a7dcaeeb77a5",
   "metadata": {},
   "outputs": [
    {
     "name": "stderr",
     "output_type": "stream",
     "text": [
      "C:\\Users\\rashi\\AppData\\Local\\Programs\\Python\\Python39\\lib\\site-packages\\sklearn\\base.py:450: UserWarning: X does not have valid feature names, but PolynomialFeatures was fitted with feature names\n",
      "  warnings.warn(\n"
     ]
    },
    {
     "data": {
      "text/plain": [
       "array([[ 1.,  9., 81.]])"
      ]
     },
     "execution_count": 29,
     "metadata": {},
     "output_type": "execute_result"
    }
   ],
   "source": [
    "test = pf.transform([[9]])\n",
    "test"
   ]
  },
  {
   "cell_type": "code",
   "execution_count": 30,
   "id": "21336c25-d7db-4e2d-b1de-952bbcabd9d0",
   "metadata": {},
   "outputs": [
    {
     "data": {
      "text/plain": [
       "array([653243.00452233])"
      ]
     },
     "execution_count": 30,
     "metadata": {},
     "output_type": "execute_result"
    }
   ],
   "source": [
    "lr.predict(test)"
   ]
  },
  {
   "cell_type": "markdown",
   "id": "356fa6db-751b-450e-b8f6-b3cce7b7798c",
   "metadata": {},
   "source": [
    "**Beware of overfitting / underfitting, your model should not be that much accurate, so it go to overfitting** - rahter it should be best fit"
   ]
  },
  {
   "cell_type": "code",
   "execution_count": null,
   "id": "c93d1a6b-042e-444a-81a5-b57f9e40d1c3",
   "metadata": {},
   "outputs": [],
   "source": []
  }
 ],
 "metadata": {
  "kernelspec": {
   "display_name": "Python 3 (ipykernel)",
   "language": "python",
   "name": "python3"
  },
  "language_info": {
   "codemirror_mode": {
    "name": "ipython",
    "version": 3
   },
   "file_extension": ".py",
   "mimetype": "text/x-python",
   "name": "python",
   "nbconvert_exporter": "python",
   "pygments_lexer": "ipython3",
   "version": "3.9.7"
  }
 },
 "nbformat": 4,
 "nbformat_minor": 5
}
