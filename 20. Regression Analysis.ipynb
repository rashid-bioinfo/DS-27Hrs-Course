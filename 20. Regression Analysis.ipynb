{
 "cells": [
  {
   "cell_type": "markdown",
   "id": "41b30686-44a3-40d7-a626-28e2d4721c61",
   "metadata": {},
   "source": [
    "# 20. Regression Analysis"
   ]
  },
  {
   "cell_type": "markdown",
   "id": "24e02e0c-9c3e-429b-a93c-4b5e78d3bb57",
   "metadata": {},
   "source": [
    "- Depedning on type of data, On the basis of outcome, you decided whether to do classification or regression analysis for prediction\n",
    "- outcome: continuous -> regression analysis"
   ]
  },
  {
   "cell_type": "markdown",
   "id": "84f2e99e-c3e7-4550-8986-4d85e3f58f8c",
   "metadata": {},
   "source": [
    "**Regression Analysis - Real world applications:**\n",
    "1) Prediction of rain using temperature and other factors\n",
    "2) Determining of Market trends\n",
    "3) Prediction of road accidents due to rash driving"
   ]
  },
  {
   "cell_type": "markdown",
   "id": "43a59579-d06c-43eb-957a-aafe4a3c803c",
   "metadata": {},
   "source": [
    "![Regression analysis](Images\\regression-algos.jpg)"
   ]
  },
  {
   "cell_type": "markdown",
   "id": "6d139ef8-b4ca-45cb-9c87-f2f50785e56f",
   "metadata": {},
   "source": [
    "- Linear Regression: Used when input and output have linear relationship\n",
    "- Non-linear regression: used when input and output have non-linear relationship"
   ]
  },
  {
   "cell_type": "markdown",
   "id": "10f4d5c8-2f69-4962-96c7-6c13e56b080c",
   "metadata": {},
   "source": [
    "**Linear Regression:**\n",
    "1) Linear regression\n",
    "2) Multi-linear regression\n",
    "3) Lasso regression\n",
    "4) Ridge regression"
   ]
  },
  {
   "cell_type": "markdown",
   "id": "fabc65c1-7861-4eac-9f61-e5a75b802e40",
   "metadata": {},
   "source": [
    "**Non-Linear Regression:**\n",
    "1) Polynomial regression\n",
    "2) Decision tree regression\n",
    "3) Random Forest regression\n",
    "4) Suppor vector regression\n",
    "5) K-Neartest Neighbour"
   ]
  },
  {
   "cell_type": "markdown",
   "id": "aa53e345-8132-40aa-a367-2a09aeb0c565",
   "metadata": {},
   "source": [
    "## 20.1 Linear Regression Algorithm (Simple Linear)"
   ]
  },
  {
   "cell_type": "markdown",
   "id": "6fe8b441-f006-4ce9-a694-360c894e5fae",
   "metadata": {},
   "source": [
    " - Linear regression is used when independent/input variable is single"
   ]
  },
  {
   "cell_type": "markdown",
   "id": "9fc10ded-8321-448b-8289-2fb8481ae39b",
   "metadata": {},
   "source": [
    "![](Images\\simple-linear-regression.jpg)"
   ]
  },
  {
   "cell_type": "markdown",
   "id": "e264e958-6242-49d0-939a-928ac5f4ee34",
   "metadata": {},
   "source": [
    "![](Images\\simple-linear-regression-2.jpg)"
   ]
  },
  {
   "cell_type": "markdown",
   "id": "c6a71dcd-bbd0-46cb-89fe-b2703cd3f582",
   "metadata": {},
   "source": [
    "![](Images\\simple-linear-regression-3.jpg)"
   ]
  },
  {
   "cell_type": "markdown",
   "id": "fb7d4668-cb06-42be-890a-40869a61c14f",
   "metadata": {},
   "source": [
    "![](Images\\simple-linear-regression-4.jpg)"
   ]
  },
  {
   "cell_type": "markdown",
   "id": "4453c831-735c-48bf-b34f-976a7113f1b1",
   "metadata": {},
   "source": [
    "y = mx + c\n",
    "\n",
    "- m = slope of line (angle between x and y=axic)\n",
    "- c = intercept (at how much distance the line is farther from y-axis)"
   ]
  },
  {
   "cell_type": "markdown",
   "id": "8b89ea19-bf5d-4105-8ca1-246f06c0d989",
   "metadata": {},
   "source": [
    "m = x2 - x1 / y2 - y1"
   ]
  },
  {
   "cell_type": "markdown",
   "id": "f37e48b0-0ef6-4e4f-b212-250665e13933",
   "metadata": {},
   "source": [
    "- m is +ve if  anlge < 90\n",
    "- m is -ve if  anlge > 90\n",
    "- m is 0 if angle = 0\n"
   ]
  }
 ],
 "metadata": {
  "kernelspec": {
   "display_name": "Python 3 (ipykernel)",
   "language": "python",
   "name": "python3"
  },
  "language_info": {
   "codemirror_mode": {
    "name": "ipython",
    "version": 3
   },
   "file_extension": ".py",
   "mimetype": "text/x-python",
   "name": "python",
   "nbconvert_exporter": "python",
   "pygments_lexer": "ipython3",
   "version": "3.9.7"
  }
 },
 "nbformat": 4,
 "nbformat_minor": 5
}
