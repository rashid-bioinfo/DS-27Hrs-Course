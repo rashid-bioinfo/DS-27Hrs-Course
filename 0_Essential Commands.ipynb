{
 "cells": [
  {
   "cell_type": "markdown",
   "id": "c983abb7-aa10-4b23-aa94-b47c701b16d5",
   "metadata": {},
   "source": [
    "### For inserting image:\n",
    "![Alt Text](image_path_or_URL)'"
   ]
  },
  {
   "cell_type": "code",
   "execution_count": null,
   "id": "9815d2df-af95-44db-b8d9-b035f700acea",
   "metadata": {},
   "outputs": [],
   "source": []
  },
  {
   "cell_type": "code",
   "execution_count": null,
   "id": "207f139a-f799-4c85-b17b-06e4ee4d234a",
   "metadata": {},
   "outputs": [],
   "source": []
  },
  {
   "cell_type": "markdown",
   "id": "1c3e2514-bc7a-4d41-9f4d-5c40f4a6c2d7",
   "metadata": {},
   "source": []
  }
 ],
 "metadata": {
  "kernelspec": {
   "display_name": "Python 3 (ipykernel)",
   "language": "python",
   "name": "python3"
  },
  "language_info": {
   "codemirror_mode": {
    "name": "ipython",
    "version": 3
   },
   "file_extension": ".py",
   "mimetype": "text/x-python",
   "name": "python",
   "nbconvert_exporter": "python",
   "pygments_lexer": "ipython3",
   "version": "3.9.7"
  }
 },
 "nbformat": 4,
 "nbformat_minor": 5
}
