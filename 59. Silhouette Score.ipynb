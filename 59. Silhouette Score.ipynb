{
 "cells": [
  {
   "cell_type": "markdown",
   "id": "77f88076-46a0-4cf5-a7df-603f8edd322b",
   "metadata": {},
   "source": [
    "# 59. Silhouette Score"
   ]
  },
  {
   "cell_type": "markdown",
   "id": "975c00f8-9676-4efc-9078-f715bd92aa76",
   "metadata": {},
   "source": [
    "- It validates that cluster predicted from the data are right or wrong number of clusters\n",
    "- Silhouette refers to a method of interpretation and validation of consistency within clusters of data.\n",
    "- Silhouette Coefficient or Silhouette Score is a metric used to calculate the goodness of a clustering technique\n",
    "- Its values ranges from -1 to 1"
   ]
  },
  {
   "cell_type": "markdown",
   "id": "53f44f2e-323a-4383-81dd-696597e31d8e",
   "metadata": {},
   "source": [
    "<img src=\"Images/Silhouette-score.jpg\"  style=\"width: 400px;\"/>"
   ]
  },
  {
   "cell_type": "markdown",
   "id": "6f97433f-4520-4fa5-9893-9c5e586a3ad4",
   "metadata": {},
   "source": [
    "### Silhouette Score Formula\n",
    "\n",
    "The Silhouette score is calculated using the following formula:\n",
    "$$\n",
    "s(i) = \\frac{b(i) - a(i)}{\\max(a(i), b(i))}\n",
    "$$\n",
    "where:\n",
    "- \\( s(i) \\) is the silhouette score for a data point \\( i \\).\n",
    "- \\( a(i) \\) is the mean distance between \\( i \\) and all other data points in the same cluster.\n",
    "- \\( b(i) \\) is the mean distance between \\( i \\) and all data points in the nearest neighboring cluster.\n",
    "\n",
    "The Silhouette score ranges from -1 to 1, where:\n",
    "- A score of 1 indicates that the data point is well clustered.\n",
    "- A score of 0 indicates that the data point lies on the boundary between clusters.\n",
    "- A score of -1 indicates that the data point is poorly clustered.\n"
   ]
  },
  {
   "cell_type": "code",
   "execution_count": null,
   "id": "8ab586ec-26c3-4efb-bc79-9ca9c56df35c",
   "metadata": {},
   "outputs": [],
   "source": []
  }
 ],
 "metadata": {
  "kernelspec": {
   "display_name": "Python 3 (ipykernel)",
   "language": "python",
   "name": "python3"
  },
  "language_info": {
   "codemirror_mode": {
    "name": "ipython",
    "version": 3
   },
   "file_extension": ".py",
   "mimetype": "text/x-python",
   "name": "python",
   "nbconvert_exporter": "python",
   "pygments_lexer": "ipython3",
   "version": "3.9.7"
  }
 },
 "nbformat": 4,
 "nbformat_minor": 5
}
