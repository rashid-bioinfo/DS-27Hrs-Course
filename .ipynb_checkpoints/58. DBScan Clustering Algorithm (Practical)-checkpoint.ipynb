{
 "cells": [
  {
   "cell_type": "markdown",
   "id": "e395796c-78a1-491f-94a5-02d3e2563713",
   "metadata": {},
   "source": [
    "# 58. DBScan Clustering Algorithm (Practical)"
   ]
  },
  {
   "cell_type": "code",
   "execution_count": 33,
   "id": "41287852-ea56-43bb-a98e-7335ad9165d6",
   "metadata": {},
   "outputs": [],
   "source": [
    "import matplotlib.pyplot as plt\n",
    "import seaborn as sns\n",
    "from sklearn.datasets import make_moons\n",
    "import pandas as pd"
   ]
  },
  {
   "cell_type": "code",
   "execution_count": 34,
   "id": "7b7da2e8-1e4a-4ae1-a889-e61a43eeff37",
   "metadata": {},
   "outputs": [],
   "source": [
    "x, y = make_moons(n_samples=250, noise=0.05)"
   ]
  },
  {
   "cell_type": "code",
   "execution_count": 35,
   "id": "8f3538cf-7393-4797-9394-0578b9c9f1ff",
   "metadata": {},
   "outputs": [
    {
     "data": {
      "text/plain": [
       "array([ 1.82154686,  0.33039765,  1.11621412,  1.75338817,  0.79406254,\n",
       "        0.09592268,  0.77490969, -0.96252073,  0.78806259,  0.23980237,\n",
       "        1.89848596,  0.01310029,  0.07091097,  0.58314369, -0.96699757,\n",
       "        1.04928892,  0.57445541,  0.74501548, -1.00650714, -0.82152061,\n",
       "        0.86190156,  0.49126856,  1.8694458 ,  1.49802939,  0.6728559 ,\n",
       "        0.98720469,  0.45047353, -0.2865276 ,  0.42354262,  0.88007291,\n",
       "        0.36500296,  1.03385062,  0.3360013 , -0.01448323,  0.89163708,\n",
       "       -0.49418874, -0.35425069,  0.50247661,  0.85778933, -0.64054093,\n",
       "        0.04832991,  2.01015645,  1.2204363 ,  1.88956628, -0.13252252,\n",
       "       -0.49523227,  0.33669497,  0.76153465, -0.27186532,  1.28870288,\n",
       "        0.93076493,  1.90104103,  0.02543826,  0.44853317,  1.00448433,\n",
       "       -0.25031522,  1.92847973,  0.42609288,  1.27725596, -0.87659926,\n",
       "        0.61413887,  0.22505794, -0.04512895,  0.69131929,  0.259285  ,\n",
       "        1.84036998,  0.47866329, -0.2844214 ,  1.31106194, -0.23293884,\n",
       "        1.31976039,  1.93209062,  0.01521537,  1.80101873, -0.0391596 ,\n",
       "       -0.49585375,  1.58238117,  0.01637799,  0.72630669,  0.91538441,\n",
       "       -0.02865494,  1.45737014,  0.64884606, -0.74483793,  1.06418573,\n",
       "        2.01778072, -0.37167832, -0.81173842, -0.91412945,  0.91606385,\n",
       "        0.6136725 , -0.43538794, -0.7255368 ,  0.96102712,  1.91454596,\n",
       "       -0.89253863,  0.12816908,  0.1788169 ,  0.12848506, -0.63151123,\n",
       "       -0.86587253,  0.71871253,  0.04011572, -0.98749825,  1.50781231,\n",
       "        0.87760821, -1.00423248,  1.44746249,  0.78287742, -0.44868368,\n",
       "        1.89144999,  0.80058548,  1.88844507, -0.42427662, -1.02605411,\n",
       "       -0.06589804,  1.92603512, -0.80463147,  1.51462527,  0.09590861,\n",
       "        1.67803099, -0.70384095,  0.99436775, -0.10206081,  0.05106181,\n",
       "        1.62449215, -0.90402427,  1.42745557,  1.92430944,  0.29091015,\n",
       "        0.80306352,  1.4728536 ,  0.6063805 ,  1.07151034,  0.77765877,\n",
       "       -0.79018459,  0.07756758, -0.6810462 ,  0.23387981, -0.9338624 ,\n",
       "        0.4196469 ,  1.0743206 , -1.07958865,  0.66710905, -0.98994215,\n",
       "        0.66449098,  0.49932715,  0.82120004,  0.48939705,  1.63825117,\n",
       "        1.86809186, -0.91683607,  1.96477994, -0.48955672,  0.56543806,\n",
       "        0.22563531, -0.93097574,  0.07804955,  0.68306482,  0.61259675,\n",
       "        2.0154066 ,  1.63111271,  0.99459508,  0.613061  ,  0.34693487,\n",
       "       -0.65125101, -1.08710097,  0.05320543, -0.97583562,  0.14590846,\n",
       "        1.28499957, -0.01456049,  0.99183249,  1.95048888,  0.22331433,\n",
       "        0.09418366,  0.84157974,  0.15503721, -0.73386657,  1.05716677,\n",
       "        0.4758061 ,  1.20194107,  1.76139437,  0.99175489,  0.88443974,\n",
       "        1.77304674,  0.72292497,  0.02948542,  0.19793304,  0.77849153,\n",
       "        0.23332147, -0.07093789,  0.35773924, -0.80533347,  0.36514192,\n",
       "       -0.00781175,  0.54951133,  1.74424235,  0.05659029, -0.85842631,\n",
       "        1.69412089,  0.08545157,  0.30568356,  1.72318384, -0.04890115,\n",
       "       -0.07264175, -0.63270247,  0.15343203, -0.69145099,  0.94662445,\n",
       "        0.84613359,  0.22515933,  1.64017442,  0.95298684, -0.0749229 ,\n",
       "        0.32118047, -0.56206221, -1.06808907,  1.20337727,  0.03416578,\n",
       "       -1.00746399,  0.94031733,  1.99598102, -0.19158745,  0.28515341,\n",
       "        1.30521283, -0.55735516,  1.36320489, -0.83877886,  1.08372752,\n",
       "        0.45287718,  0.8876371 ,  1.03408887,  0.23404788,  1.89919484,\n",
       "        0.80054814,  2.0020812 ,  1.0442318 ,  1.86594006,  1.72375506,\n",
       "       -0.3131739 ,  0.13166397,  1.04628395,  1.88899169,  1.98677442,\n",
       "        2.03239475,  0.43570842,  1.04879911,  1.04383872, -0.80846152])"
      ]
     },
     "execution_count": 35,
     "metadata": {},
     "output_type": "execute_result"
    }
   ],
   "source": [
    "# First column data\n",
    "x[:,0]"
   ]
  },
  {
   "cell_type": "code",
   "execution_count": 36,
   "id": "4a8473a8-8e55-4fb2-9bdc-603a18d2bd23",
   "metadata": {},
   "outputs": [],
   "source": [
    "df = {\"data1\":x[:,0], \"data2\":x[:,1], \"output\":y}"
   ]
  },
  {
   "cell_type": "code",
   "execution_count": 37,
   "id": "03c2eb99-09e8-4be8-ab30-a8b9af075213",
   "metadata": {},
   "outputs": [],
   "source": [
    "dataset = pd.DataFrame(df)"
   ]
  },
  {
   "cell_type": "code",
   "execution_count": 38,
   "id": "aea42d32-c0c8-4d91-a9a2-87115ee4fe40",
   "metadata": {},
   "outputs": [
    {
     "data": {
      "text/html": [
       "<div>\n",
       "<style scoped>\n",
       "    .dataframe tbody tr th:only-of-type {\n",
       "        vertical-align: middle;\n",
       "    }\n",
       "\n",
       "    .dataframe tbody tr th {\n",
       "        vertical-align: top;\n",
       "    }\n",
       "\n",
       "    .dataframe thead th {\n",
       "        text-align: right;\n",
       "    }\n",
       "</style>\n",
       "<table border=\"1\" class=\"dataframe\">\n",
       "  <thead>\n",
       "    <tr style=\"text-align: right;\">\n",
       "      <th></th>\n",
       "      <th>data1</th>\n",
       "      <th>data2</th>\n",
       "      <th>output</th>\n",
       "    </tr>\n",
       "  </thead>\n",
       "  <tbody>\n",
       "    <tr>\n",
       "      <th>0</th>\n",
       "      <td>1.821547</td>\n",
       "      <td>-0.067198</td>\n",
       "      <td>1</td>\n",
       "    </tr>\n",
       "    <tr>\n",
       "      <th>1</th>\n",
       "      <td>0.330398</td>\n",
       "      <td>-0.152611</td>\n",
       "      <td>1</td>\n",
       "    </tr>\n",
       "    <tr>\n",
       "      <th>2</th>\n",
       "      <td>1.116214</td>\n",
       "      <td>-0.551311</td>\n",
       "      <td>1</td>\n",
       "    </tr>\n",
       "    <tr>\n",
       "      <th>3</th>\n",
       "      <td>1.753388</td>\n",
       "      <td>-0.086491</td>\n",
       "      <td>1</td>\n",
       "    </tr>\n",
       "    <tr>\n",
       "      <th>4</th>\n",
       "      <td>0.794063</td>\n",
       "      <td>0.502981</td>\n",
       "      <td>0</td>\n",
       "    </tr>\n",
       "    <tr>\n",
       "      <th>...</th>\n",
       "      <td>...</td>\n",
       "      <td>...</td>\n",
       "      <td>...</td>\n",
       "    </tr>\n",
       "    <tr>\n",
       "      <th>245</th>\n",
       "      <td>2.032395</td>\n",
       "      <td>0.488380</td>\n",
       "      <td>1</td>\n",
       "    </tr>\n",
       "    <tr>\n",
       "      <th>246</th>\n",
       "      <td>0.435708</td>\n",
       "      <td>-0.229602</td>\n",
       "      <td>1</td>\n",
       "    </tr>\n",
       "    <tr>\n",
       "      <th>247</th>\n",
       "      <td>1.048799</td>\n",
       "      <td>-0.520698</td>\n",
       "      <td>1</td>\n",
       "    </tr>\n",
       "    <tr>\n",
       "      <th>248</th>\n",
       "      <td>1.043839</td>\n",
       "      <td>-0.518346</td>\n",
       "      <td>1</td>\n",
       "    </tr>\n",
       "    <tr>\n",
       "      <th>249</th>\n",
       "      <td>-0.808462</td>\n",
       "      <td>0.618646</td>\n",
       "      <td>0</td>\n",
       "    </tr>\n",
       "  </tbody>\n",
       "</table>\n",
       "<p>250 rows × 3 columns</p>\n",
       "</div>"
      ],
      "text/plain": [
       "        data1     data2  output\n",
       "0    1.821547 -0.067198       1\n",
       "1    0.330398 -0.152611       1\n",
       "2    1.116214 -0.551311       1\n",
       "3    1.753388 -0.086491       1\n",
       "4    0.794063  0.502981       0\n",
       "..        ...       ...     ...\n",
       "245  2.032395  0.488380       1\n",
       "246  0.435708 -0.229602       1\n",
       "247  1.048799 -0.520698       1\n",
       "248  1.043839 -0.518346       1\n",
       "249 -0.808462  0.618646       0\n",
       "\n",
       "[250 rows x 3 columns]"
      ]
     },
     "execution_count": 38,
     "metadata": {},
     "output_type": "execute_result"
    }
   ],
   "source": [
    "dataset"
   ]
  },
  {
   "cell_type": "code",
   "execution_count": 39,
   "id": "7f932038-709d-4472-91cb-649b08da9bcf",
   "metadata": {},
   "outputs": [
    {
     "data": {
      "image/png": "[encoded data removed]",
      "text/plain": [
       "<Figure size 432x288 with 1 Axes>"
      ]
     },
     "metadata": {
      "needs_background": "light"
     },
     "output_type": "display_data"
    }
   ],
   "source": [
    "sns.scatterplot(x='data1', y='data2', data=dataset, hue='output')\n",
    "plt.show()"
   ]
  },
  {
   "cell_type": "markdown",
   "id": "5f6d0e5b-67b5-4ea2-bde7-77476810c565",
   "metadata": {},
   "source": [
    "- The data is **non-linear**, so we will apply DBSCAN Clustering algorithm"
   ]
  },
  {
   "cell_type": "code",
   "execution_count": 40,
   "id": "09f268e8-40a8-4465-a162-1773ff2195e1",
   "metadata": {},
   "outputs": [
    {
     "data": {
      "text/html": [
       "<div>\n",
       "<style scoped>\n",
       "    .dataframe tbody tr th:only-of-type {\n",
       "        vertical-align: middle;\n",
       "    }\n",
       "\n",
       "    .dataframe tbody tr th {\n",
       "        vertical-align: top;\n",
       "    }\n",
       "\n",
       "    .dataframe thead th {\n",
       "        text-align: right;\n",
       "    }\n",
       "</style>\n",
       "<table border=\"1\" class=\"dataframe\">\n",
       "  <thead>\n",
       "    <tr style=\"text-align: right;\">\n",
       "      <th></th>\n",
       "      <th>data1</th>\n",
       "      <th>data2</th>\n",
       "      <th>output</th>\n",
       "    </tr>\n",
       "  </thead>\n",
       "  <tbody>\n",
       "    <tr>\n",
       "      <th>0</th>\n",
       "      <td>1.821547</td>\n",
       "      <td>-0.067198</td>\n",
       "      <td>1</td>\n",
       "    </tr>\n",
       "    <tr>\n",
       "      <th>1</th>\n",
       "      <td>0.330398</td>\n",
       "      <td>-0.152611</td>\n",
       "      <td>1</td>\n",
       "    </tr>\n",
       "    <tr>\n",
       "      <th>2</th>\n",
       "      <td>1.116214</td>\n",
       "      <td>-0.551311</td>\n",
       "      <td>1</td>\n",
       "    </tr>\n",
       "  </tbody>\n",
       "</table>\n",
       "</div>"
      ],
      "text/plain": [
       "      data1     data2  output\n",
       "0  1.821547 -0.067198       1\n",
       "1  0.330398 -0.152611       1\n",
       "2  1.116214 -0.551311       1"
      ]
     },
     "execution_count": 40,
     "metadata": {},
     "output_type": "execute_result"
    }
   ],
   "source": [
    "dataset.head(3)"
   ]
  },
  {
   "cell_type": "markdown",
   "id": "41dfe095-c1a6-41ff-8491-1d88710aa39e",
   "metadata": {},
   "source": [
    "- We cannot apply DBSCAN on 0 and 1 as this is present in output column, so will remove this column before applying this algo."
   ]
  },
  {
   "cell_type": "code",
   "execution_count": 41,
   "id": "6f64bc47-bba6-48a6-b2c2-e8508635c11b",
   "metadata": {},
   "outputs": [],
   "source": [
    "dataset.drop('output', axis=1, inplace=True)"
   ]
  },
  {
   "cell_type": "code",
   "execution_count": 42,
   "id": "45e530ea-d6f0-4519-a693-7ea67223f168",
   "metadata": {},
   "outputs": [
    {
     "data": {
      "text/html": [
       "<div>\n",
       "<style scoped>\n",
       "    .dataframe tbody tr th:only-of-type {\n",
       "        vertical-align: middle;\n",
       "    }\n",
       "\n",
       "    .dataframe tbody tr th {\n",
       "        vertical-align: top;\n",
       "    }\n",
       "\n",
       "    .dataframe thead th {\n",
       "        text-align: right;\n",
       "    }\n",
       "</style>\n",
       "<table border=\"1\" class=\"dataframe\">\n",
       "  <thead>\n",
       "    <tr style=\"text-align: right;\">\n",
       "      <th></th>\n",
       "      <th>data1</th>\n",
       "      <th>data2</th>\n",
       "    </tr>\n",
       "  </thead>\n",
       "  <tbody>\n",
       "    <tr>\n",
       "      <th>0</th>\n",
       "      <td>1.821547</td>\n",
       "      <td>-0.067198</td>\n",
       "    </tr>\n",
       "    <tr>\n",
       "      <th>1</th>\n",
       "      <td>0.330398</td>\n",
       "      <td>-0.152611</td>\n",
       "    </tr>\n",
       "    <tr>\n",
       "      <th>2</th>\n",
       "      <td>1.116214</td>\n",
       "      <td>-0.551311</td>\n",
       "    </tr>\n",
       "    <tr>\n",
       "      <th>3</th>\n",
       "      <td>1.753388</td>\n",
       "      <td>-0.086491</td>\n",
       "    </tr>\n",
       "    <tr>\n",
       "      <th>4</th>\n",
       "      <td>0.794063</td>\n",
       "      <td>0.502981</td>\n",
       "    </tr>\n",
       "    <tr>\n",
       "      <th>...</th>\n",
       "      <td>...</td>\n",
       "      <td>...</td>\n",
       "    </tr>\n",
       "    <tr>\n",
       "      <th>245</th>\n",
       "      <td>2.032395</td>\n",
       "      <td>0.488380</td>\n",
       "    </tr>\n",
       "    <tr>\n",
       "      <th>246</th>\n",
       "      <td>0.435708</td>\n",
       "      <td>-0.229602</td>\n",
       "    </tr>\n",
       "    <tr>\n",
       "      <th>247</th>\n",
       "      <td>1.048799</td>\n",
       "      <td>-0.520698</td>\n",
       "    </tr>\n",
       "    <tr>\n",
       "      <th>248</th>\n",
       "      <td>1.043839</td>\n",
       "      <td>-0.518346</td>\n",
       "    </tr>\n",
       "    <tr>\n",
       "      <th>249</th>\n",
       "      <td>-0.808462</td>\n",
       "      <td>0.618646</td>\n",
       "    </tr>\n",
       "  </tbody>\n",
       "</table>\n",
       "<p>250 rows × 2 columns</p>\n",
       "</div>"
      ],
      "text/plain": [
       "        data1     data2\n",
       "0    1.821547 -0.067198\n",
       "1    0.330398 -0.152611\n",
       "2    1.116214 -0.551311\n",
       "3    1.753388 -0.086491\n",
       "4    0.794063  0.502981\n",
       "..        ...       ...\n",
       "245  2.032395  0.488380\n",
       "246  0.435708 -0.229602\n",
       "247  1.048799 -0.520698\n",
       "248  1.043839 -0.518346\n",
       "249 -0.808462  0.618646\n",
       "\n",
       "[250 rows x 2 columns]"
      ]
     },
     "execution_count": 42,
     "metadata": {},
     "output_type": "execute_result"
    }
   ],
   "source": [
    "dataset"
   ]
  },
  {
   "cell_type": "code",
   "execution_count": 43,
   "id": "790690b5-1e2f-47b8-8458-a35e81feda4c",
   "metadata": {},
   "outputs": [],
   "source": [
    "from sklearn.cluster import DBSCAN"
   ]
  },
  {
   "cell_type": "code",
   "execution_count": 44,
   "id": "25c76ac0-1da3-4de7-a0a5-535a4e4c127a",
   "metadata": {},
   "outputs": [
    {
     "data": {
      "text/plain": [
       "array([0, 0, 0, 0, 1, 1, 1, 1, 1, 1, 0, 0, 0, 0, 1, 1, 1, 0, 1, 1, 0, 1,\n",
       "       0, 0, 0, 1, 1, 1, 1, 0, 1, 0, 0, 0, 1, 1, 1, 0, 1, 1, 0, 0, 0, 0,\n",
       "       1, 1, 1, 1, 1, 0, 1, 0, 0, 0, 1, 1, 0, 1, 0, 1, 0, 0, 1, 1, 1, 0,\n",
       "       0, 1, 0, 1, 0, 0, 0, 0, 0, 1, 0, 1, 1, 1, 0, 0, 0, 1, 1, 0, 1, 1,\n",
       "       1, 0, 1, 1, 1, 1, 0, 1, 0, 0, 0, 1, 1, 0, 0, 1, 0, 0, 1, 0, 0, 1,\n",
       "       0, 1, 0, 1, 1, 1, 0, 1, 0, 0, 0, 1, 1, 1, 0, 0, 1, 0, 0, 0, 1, 0,\n",
       "       1, 1, 0, 1, 0, 1, 0, 1, 1, 0, 1, 1, 1, 1, 0, 0, 1, 0, 0, 1, 0, 1,\n",
       "       1, 0, 1, 0, 0, 1, 0, 0, 1, 0, 1, 1, 1, 0, 1, 0, 0, 0, 1, 0, 0, 0,\n",
       "       1, 0, 1, 0, 0, 0, 0, 1, 1, 0, 1, 0, 0, 1, 1, 0, 1, 1, 0, 1, 0, 0,\n",
       "       1, 1, 0, 1, 0, 0, 1, 1, 1, 0, 1, 0, 0, 1, 0, 1, 1, 1, 1, 1, 0, 0,\n",
       "       1, 1, 0, 1, 0, 0, 1, 0, 1, 1, 0, 1, 0, 1, 0, 1, 0, 1, 0, 0, 1, 1,\n",
       "       1, 0, 0, 0, 0, 0, 0, 1], dtype=int64)"
      ]
     },
     "execution_count": 44,
     "metadata": {},
     "output_type": "execute_result"
    }
   ],
   "source": [
    "db = DBSCAN(eps=0.2, min_samples=5)\n",
    "db.fit_predict(dataset)"
   ]
  },
  {
   "cell_type": "code",
   "execution_count": 45,
   "id": "2afc561b-f5d4-435c-9fb2-882e7e5825d3",
   "metadata": {},
   "outputs": [],
   "source": [
    "dataset['Predict'] = db.fit_predict(dataset)"
   ]
  },
  {
   "cell_type": "code",
   "execution_count": 46,
   "id": "85e361c9-ce9f-4538-9b10-b57ce06467c7",
   "metadata": {},
   "outputs": [
    {
     "data": {
      "text/html": [
       "<div>\n",
       "<style scoped>\n",
       "    .dataframe tbody tr th:only-of-type {\n",
       "        vertical-align: middle;\n",
       "    }\n",
       "\n",
       "    .dataframe tbody tr th {\n",
       "        vertical-align: top;\n",
       "    }\n",
       "\n",
       "    .dataframe thead th {\n",
       "        text-align: right;\n",
       "    }\n",
       "</style>\n",
       "<table border=\"1\" class=\"dataframe\">\n",
       "  <thead>\n",
       "    <tr style=\"text-align: right;\">\n",
       "      <th></th>\n",
       "      <th>data1</th>\n",
       "      <th>data2</th>\n",
       "      <th>Predict</th>\n",
       "    </tr>\n",
       "  </thead>\n",
       "  <tbody>\n",
       "    <tr>\n",
       "      <th>0</th>\n",
       "      <td>1.821547</td>\n",
       "      <td>-0.067198</td>\n",
       "      <td>0</td>\n",
       "    </tr>\n",
       "    <tr>\n",
       "      <th>1</th>\n",
       "      <td>0.330398</td>\n",
       "      <td>-0.152611</td>\n",
       "      <td>0</td>\n",
       "    </tr>\n",
       "    <tr>\n",
       "      <th>2</th>\n",
       "      <td>1.116214</td>\n",
       "      <td>-0.551311</td>\n",
       "      <td>0</td>\n",
       "    </tr>\n",
       "    <tr>\n",
       "      <th>3</th>\n",
       "      <td>1.753388</td>\n",
       "      <td>-0.086491</td>\n",
       "      <td>0</td>\n",
       "    </tr>\n",
       "    <tr>\n",
       "      <th>4</th>\n",
       "      <td>0.794063</td>\n",
       "      <td>0.502981</td>\n",
       "      <td>1</td>\n",
       "    </tr>\n",
       "    <tr>\n",
       "      <th>...</th>\n",
       "      <td>...</td>\n",
       "      <td>...</td>\n",
       "      <td>...</td>\n",
       "    </tr>\n",
       "    <tr>\n",
       "      <th>245</th>\n",
       "      <td>2.032395</td>\n",
       "      <td>0.488380</td>\n",
       "      <td>0</td>\n",
       "    </tr>\n",
       "    <tr>\n",
       "      <th>246</th>\n",
       "      <td>0.435708</td>\n",
       "      <td>-0.229602</td>\n",
       "      <td>0</td>\n",
       "    </tr>\n",
       "    <tr>\n",
       "      <th>247</th>\n",
       "      <td>1.048799</td>\n",
       "      <td>-0.520698</td>\n",
       "      <td>0</td>\n",
       "    </tr>\n",
       "    <tr>\n",
       "      <th>248</th>\n",
       "      <td>1.043839</td>\n",
       "      <td>-0.518346</td>\n",
       "      <td>0</td>\n",
       "    </tr>\n",
       "    <tr>\n",
       "      <th>249</th>\n",
       "      <td>-0.808462</td>\n",
       "      <td>0.618646</td>\n",
       "      <td>1</td>\n",
       "    </tr>\n",
       "  </tbody>\n",
       "</table>\n",
       "<p>250 rows × 3 columns</p>\n",
       "</div>"
      ],
      "text/plain": [
       "        data1     data2  Predict\n",
       "0    1.821547 -0.067198        0\n",
       "1    0.330398 -0.152611        0\n",
       "2    1.116214 -0.551311        0\n",
       "3    1.753388 -0.086491        0\n",
       "4    0.794063  0.502981        1\n",
       "..        ...       ...      ...\n",
       "245  2.032395  0.488380        0\n",
       "246  0.435708 -0.229602        0\n",
       "247  1.048799 -0.520698        0\n",
       "248  1.043839 -0.518346        0\n",
       "249 -0.808462  0.618646        1\n",
       "\n",
       "[250 rows x 3 columns]"
      ]
     },
     "execution_count": 46,
     "metadata": {},
     "output_type": "execute_result"
    }
   ],
   "source": [
    "dataset"
   ]
  },
  {
   "cell_type": "code",
   "execution_count": 47,
   "id": "e6269d72-740f-4726-ae20-4800e1ed6529",
   "metadata": {},
   "outputs": [
    {
     "data": {
      "image/png": "[encoded data removed]",
      "text/plain": [
       "<Figure size 432x288 with 1 Axes>"
      ]
     },
     "metadata": {
      "needs_background": "light"
     },
     "output_type": "display_data"
    }
   ],
   "source": [
    "sns.scatterplot(x='data1', y='data2', data=dataset, hue='Predict')\n",
    "plt.show()"
   ]
  },
  {
   "cell_type": "markdown",
   "id": "e0d73078-293b-4e69-9b21-b4f1ebf68c97",
   "metadata": {},
   "source": [
    "**So predicted data resembles with actual output as shown in the graphs of predict and original data**"
   ]
  },
  {
   "cell_type": "code",
   "execution_count": null,
   "id": "11d67fa6-bd31-4f61-9b69-636be0f4626c",
   "metadata": {},
   "outputs": [],
   "source": []
  }
 ],
 "metadata": {
  "kernelspec": {
   "display_name": "Python 3 (ipykernel)",
   "language": "python",
   "name": "python3"
  },
  "language_info": {
   "codemirror_mode": {
    "name": "ipython",
    "version": 3
   },
   "file_extension": ".py",
   "mimetype": "text/x-python",
   "name": "python",
   "nbconvert_exporter": "python",
   "pygments_lexer": "ipython3",
   "version": "3.9.7"
  }
 },
 "nbformat": 4,
 "nbformat_minor": 5
}
