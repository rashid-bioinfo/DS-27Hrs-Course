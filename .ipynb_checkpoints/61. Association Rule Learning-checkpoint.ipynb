{
 "cells": [
  {
   "cell_type": "markdown",
   "id": "2e9e59ea-474b-42f3-8d89-aa773812c9fc",
   "metadata": {},
   "source": [
    "# 61. Association Rule Learning"
   ]
  },
  {
   "cell_type": "markdown",
   "id": "66adf500-8419-476a-b4e9-98bb25478872",
   "metadata": {},
   "source": [
    "- There are two types of **Unsupervised Learning**:\n",
    "1) Clustering\n",
    "2) Association"
   ]
  },
  {
   "cell_type": "markdown",
   "id": "aa047fe1-df1f-4d0e-b1fe-d3d78187e2be",
   "metadata": {},
   "source": [
    "- Association rule learning is a machine learning technique used to discover interesting relationships or patterns in large datasets.\n",
    "- It is ofen applied to transactional data, where items are bought or used together."
   ]
  },
  {
   "cell_type": "markdown",
   "id": "fc761385-634c-459d-85b3-2bc2652b8daf",
   "metadata": {},
   "source": [
    "<img src=\"Images/association-ml.jpg\"  style=\"width: 400px;\"/>"
   ]
  },
  {
   "cell_type": "markdown",
   "id": "538ba38f-f07a-43d6-b267-fdac995c5b1d",
   "metadata": {},
   "source": [
    "- **Association rule learning works** on the concept of if and else statement such as if A then B.\n",
    "- If element is called **antecedent**,\n",
    "- and then statement is called **consequent**"
   ]
  },
  {
   "cell_type": "markdown",
   "id": "b32f4349-088f-4baf-a252-14d570b089d3",
   "metadata": {},
   "source": [
    "### How does association rule learning work\n",
    "\n",
    "1) **Support**\n",
    "2) **Confidence**\n",
    "3) **Lift**"
   ]
  },
  {
   "cell_type": "code",
   "execution_count": null,
   "id": "97282b2d-f050-4777-b85f-0ad76551147c",
   "metadata": {},
   "outputs": [],
   "source": []
  },
  {
   "cell_type": "code",
   "execution_count": null,
   "id": "ab422a0e-53f6-4201-971d-4abb89d5e1bf",
   "metadata": {},
   "outputs": [],
   "source": []
  },
  {
   "cell_type": "code",
   "execution_count": null,
   "id": "e005bc77-7eab-4429-9a3b-d43301dc6ff9",
   "metadata": {},
   "outputs": [],
   "source": []
  },
  {
   "cell_type": "code",
   "execution_count": null,
   "id": "a10cb223-53d4-41c8-be42-747be516ed31",
   "metadata": {},
   "outputs": [],
   "source": []
  },
  {
   "cell_type": "code",
   "execution_count": null,
   "id": "e1bdee38-a775-4cf4-a220-62361e8e902a",
   "metadata": {},
   "outputs": [],
   "source": []
  }
 ],
 "metadata": {
  "kernelspec": {
   "display_name": "Python 3 (ipykernel)",
   "language": "python",
   "name": "python3"
  },
  "language_info": {
   "codemirror_mode": {
    "name": "ipython",
    "version": 3
   },
   "file_extension": ".py",
   "mimetype": "text/x-python",
   "name": "python",
   "nbconvert_exporter": "python",
   "pygments_lexer": "ipython3",
   "version": "3.9.7"
  }
 },
 "nbformat": 4,
 "nbformat_minor": 5
}
