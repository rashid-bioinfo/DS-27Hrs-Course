{
 "cells": [
  {
   "cell_type": "markdown",
   "id": "d4317932-27aa-4a4c-aaea-e03db2e9957a",
   "metadata": {},
   "source": [
    "## 7_Calculating Z-test"
   ]
  },
  {
   "cell_type": "code",
   "execution_count": 11,
   "id": "235453b7-8dab-4c6d-b02e-d5c38bd21545",
   "metadata": {},
   "outputs": [],
   "source": [
    "import scipy.stats as st\n",
    "import numpy as np"
   ]
  },
  {
   "cell_type": "code",
   "execution_count": 19,
   "id": "340f4fd8-7b84-4751-a22a-d666d873f6d2",
   "metadata": {},
   "outputs": [
    {
     "data": {
      "text/plain": [
       "1.6448536269514722"
      ]
     },
     "execution_count": 19,
     "metadata": {},
     "output_type": "execute_result"
    }
   ],
   "source": [
    "# To calculate Z-value (from Z-table)\n",
    "z_table = st.norm.ppf(1-0.05)\n",
    "z_table"
   ]
  },
  {
   "cell_type": "code",
   "execution_count": 20,
   "id": "064de486-289a-4819-a52e-25538ca86ed6",
   "metadata": {},
   "outputs": [],
   "source": [
    "s_x = 90\n",
    "p_u = 82\n",
    "p_std = 20\n",
    "n = 81"
   ]
  },
  {
   "cell_type": "code",
   "execution_count": 21,
   "id": "09a05ceb-aa09-48ce-b98c-8ea4066fbe90",
   "metadata": {},
   "outputs": [
    {
     "data": {
      "text/plain": [
       "3.5999999999999996"
      ]
     },
     "execution_count": 21,
     "metadata": {},
     "output_type": "execute_result"
    }
   ],
   "source": [
    "z_cal = (s_x - p_u) / (p_std/np.sqrt(n))\n",
    "z_cal"
   ]
  },
  {
   "cell_type": "code",
   "execution_count": 24,
   "id": "875662c1-9cb5-454f-8692-34756f7ed7d5",
   "metadata": {},
   "outputs": [
    {
     "name": "stdout",
     "output_type": "stream",
     "text": [
      "Alternate Hypothesis (Ha) is correct\n"
     ]
    }
   ],
   "source": [
    "if z_table < z_cal:\n",
    "    print(\"Alternate Hypothesis (Ha) is correct\")\n",
    "else:\n",
    "    print(\"Null hypothesis (Ho) is correct\")"
   ]
  },
  {
   "cell_type": "code",
   "execution_count": null,
   "id": "8050fcc3-a847-4b23-a245-d3f207e4fe52",
   "metadata": {},
   "outputs": [],
   "source": []
  }
 ],
 "metadata": {
  "kernelspec": {
   "display_name": "Python 3 (ipykernel)",
   "language": "python",
   "name": "python3"
  },
  "language_info": {
   "codemirror_mode": {
    "name": "ipython",
    "version": 3
   },
   "file_extension": ".py",
   "mimetype": "text/x-python",
   "name": "python",
   "nbconvert_exporter": "python",
   "pygments_lexer": "ipython3",
   "version": "3.9.7"
  }
 },
 "nbformat": 4,
 "nbformat_minor": 5
}
