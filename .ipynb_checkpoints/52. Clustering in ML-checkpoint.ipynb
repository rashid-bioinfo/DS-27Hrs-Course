{
 "cells": [
  {
   "cell_type": "markdown",
   "id": "45034850-a4e5-4cfe-8680-61e7d278f8a8",
   "metadata": {},
   "source": [
    "# 52. Clustering in ML"
   ]
  },
  {
   "cell_type": "markdown",
   "id": "1be9c683-2f6b-4713-bdaf-f8b9ffc3fbb9",
   "metadata": {},
   "source": [
    "Unsupervised learning is divided into:\n",
    "1) **Clustering** - divide the data into different clusters, classify/categorize the data\n",
    "2) **Association** - Arrangement of data"
   ]
  },
  {
   "cell_type": "markdown",
   "id": "68027dc3-cc79-4256-96fd-b6bc3d50dd17",
   "metadata": {},
   "source": [
    "**List of some popular unsupervised learning algorithm:**\n",
    "- K-means clustering\n",
    "- Hierarchal clustering\n",
    "- DBSCAN Clustering\n",
    "- Apriori Algorithm / F Growth\n",
    "- Principle Component Analysis"
   ]
  },
  {
   "cell_type": "code",
   "execution_count": null,
   "id": "6fb0b14c-9527-4737-9ca4-6d2d33f0ddd4",
   "metadata": {},
   "outputs": [],
   "source": []
  }
 ],
 "metadata": {
  "kernelspec": {
   "display_name": "Python 3 (ipykernel)",
   "language": "python",
   "name": "python3"
  },
  "language_info": {
   "codemirror_mode": {
    "name": "ipython",
    "version": 3
   },
   "file_extension": ".py",
   "mimetype": "text/x-python",
   "name": "python",
   "nbconvert_exporter": "python",
   "pygments_lexer": "ipython3",
   "version": "3.9.7"
  }
 },
 "nbformat": 4,
 "nbformat_minor": 5
}
