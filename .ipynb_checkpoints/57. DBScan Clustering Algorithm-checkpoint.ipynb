{
 "cells": [
  {
   "cell_type": "markdown",
   "id": "d0536992-7264-4222-bb60-3acd1f565d33",
   "metadata": {},
   "source": [
    "# 57. DBScan Clustering Algorithm"
   ]
  },
  {
   "cell_type": "markdown",
   "id": "703dfec4-b02e-4524-afd3-faad2dac0d52",
   "metadata": {},
   "source": [
    "- Density-Based Spatial Clustering of Applications with Noise.\n",
    "- The clusters found by DBScan can be any shape, which can deal with some special cases that other methods cannot.\n",
    "- It is used for **non-linear separable data**\n",
    "- DBScan Clustering also used in **detection of outlier in the data**"
   ]
  },
  {
   "cell_type": "markdown",
   "id": "0d38fd26-834b-4e19-a616-10669b82b9a7",
   "metadata": {},
   "source": [
    "<img src=\"Images/dbscan.jpg\"  style=\"width: 400px;\"/>"
   ]
  },
  {
   "cell_type": "markdown",
   "id": "342a40de-71e9-4886-9c0f-79f398be7075",
   "metadata": {},
   "source": [
    "**Requirements for DBCLUSTRING**\n",
    "1) Minimum points (at least 4)\n",
    "2) Espsilon (radius)\n",
    "3) Core point (#points >= minpoints)\n",
    "4) Boundary point (#points < minpoints)\n",
    "5) Noise Point (outlier)"
   ]
  },
  {
   "cell_type": "code",
   "execution_count": null,
   "id": "e2555621-ab70-447d-b8a9-280153499834",
   "metadata": {},
   "outputs": [],
   "source": []
  }
 ],
 "metadata": {
  "kernelspec": {
   "display_name": "Python 3 (ipykernel)",
   "language": "python",
   "name": "python3"
  },
  "language_info": {
   "codemirror_mode": {
    "name": "ipython",
    "version": 3
   },
   "file_extension": ".py",
   "mimetype": "text/x-python",
   "name": "python",
   "nbconvert_exporter": "python",
   "pygments_lexer": "ipython3",
   "version": "3.9.7"
  }
 },
 "nbformat": 4,
 "nbformat_minor": 5
}
