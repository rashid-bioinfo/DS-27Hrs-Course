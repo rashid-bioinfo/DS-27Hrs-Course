{
 "cells": [
  {
   "cell_type": "markdown",
   "id": "d8f3005c-845d-4c8b-aea9-6560a5e9650b",
   "metadata": {},
   "source": [
    "# 55. Hierarchical Clustering"
   ]
  },
  {
   "cell_type": "markdown",
   "id": "f49eede1-e917-49b0-ad0b-5d234ed1d20a",
   "metadata": {},
   "source": [
    "**It is applied for linearly separable data**"
   ]
  },
  {
   "cell_type": "markdown",
   "id": "0b1dc2e1-f3d5-4cc6-82f1-b076f37cfb3f",
   "metadata": {},
   "source": [
    "- It is used to group the unlabelled datasets into a cluster and aslo known as hierarchical cluster analysis or HCA.\n",
    "- In the algorithm, we develop the hierarchy of clusters in the form of a tree, and this tree-shaped structure is known as the **dendrogam**."
   ]
  },
  {
   "cell_type": "markdown",
   "id": "5231b51e-446f-4c2b-98b3-4f72b7ba664e",
   "metadata": {},
   "source": [
    "## Dendrogram"
   ]
  },
  {
   "cell_type": "markdown",
   "id": "c16f9384-6ad1-4e8a-8c45-86b2fe83a6e2",
   "metadata": {},
   "source": [
    "- It is a tree like structure that is mainly used to store each step as a memory that the HC algorithm performs.\n",
    "- The dendrogram plot, the Y-axis shows the **Euclidean distances** b/w the data points, and the x-axis shows all the data points of the given dataset."
   ]
  },
  {
   "cell_type": "markdown",
   "id": "8af5dec9-2bf5-415c-9a50-151da9656d9e",
   "metadata": {},
   "source": [
    "<img src=\"Images/dendrogram.jpg\"  style=\"width: 500px;\"/>"
   ]
  },
  {
   "cell_type": "markdown",
   "id": "50222e24-a5fa-4862-ab8c-1a254062745f",
   "metadata": {},
   "source": [
    "#### Hierarchical clustering technique has two approaches:\n",
    "\n",
    "1) **Agglomerate:** Agglomerative is a bottom-up approach, in which the algorithm starts with taking all data points as single clusters and merging them until one cluster is left. This is popular algorithem and **bottom-up approach**.\n",
    "2) **Divisive:** Divisive algorithm is the reverse of the agglomerative algorithm as it is **top-down approach**."
   ]
  },
  {
   "cell_type": "markdown",
   "id": "f4da0f39-9b17-4ea2-a69d-ed4c5f8792b3",
   "metadata": {},
   "source": [
    "### Agglomerate Clustering:"
   ]
  },
  {
   "cell_type": "markdown",
   "id": "d4bf7e44-b474-49e6-ba93-95ef03308192",
   "metadata": {},
   "source": [
    "<img src=\"Images/dendrogram-2.jpg\"  style=\"width: 400px;\"/>"
   ]
  },
  {
   "cell_type": "markdown",
   "id": "1d90c062-04c4-4019-bfef-7db62be61f1a",
   "metadata": {},
   "source": [
    "### Divisive Clustering:"
   ]
  },
  {
   "cell_type": "markdown",
   "id": "5e109074-3778-4397-b00f-3f12adc02e2a",
   "metadata": {},
   "source": [
    "<img src=\"Images/dendrogram-3.jpg\"  style=\"width: 400px;\"/>"
   ]
  },
  {
   "cell_type": "markdown",
   "id": "33bac9ee-0769-413c-af48-e21a35a3c954",
   "metadata": {},
   "source": [
    "#### Measure for the distance between two clusters"
   ]
  },
  {
   "cell_type": "markdown",
   "id": "45a5decd-9cc7-4dad-b30b-db5cb73b8192",
   "metadata": {},
   "source": [
    "- The closest distance b/w the two clusters is crucial for the hierarchical clustering.\n",
    "- There are various ways to calculate the distance b/w two clusters, and these ways decided the rule for clustering. These measures are called **Linkage methods:**\n",
    "- **Single Linkage** - We take minimum distance b/w two clusters \n",
    "- **Complete Linkage** - We take maximum distance b/w two clusters \n",
    "- **Average Linkage** - We take average distance b/w two clusters\n",
    "- **Centroid Linkage** - We take central point and then calculate distance b/w two clusters"
   ]
  },
  {
   "cell_type": "markdown",
   "id": "eecb2f47-2ca9-4930-b94a-84647cb9d9fc",
   "metadata": {},
   "source": [
    "<img src=\"Images/dendrogram-4.jpg\"  style=\"width: 400px;\"/>"
   ]
  },
  {
   "cell_type": "markdown",
   "id": "723bfa2a-031d-4e20-89a2-9c80626d20ea",
   "metadata": {},
   "source": [
    "<img src=\"Images/dendrogram-5.jpg\"  style=\"width: 400px;\"/>"
   ]
  },
  {
   "cell_type": "markdown",
   "id": "fe3a720f-a8ec-464e-a248-d963fb6747fe",
   "metadata": {},
   "source": [
    "<img src=\"Images/dendrogram-6.jpg\"  style=\"width: 450px;\"/>"
   ]
  },
  {
   "cell_type": "markdown",
   "id": "2afb30b0-3c46-48ca-8818-73be61b3169e",
   "metadata": {},
   "source": [
    "<img src=\"Images/dendrogram-7.jpg\"  style=\"width: 450px;\"/>"
   ]
  },
  {
   "cell_type": "markdown",
   "id": "f6ca2b55-b223-4e44-abe8-f15c54f65ef2",
   "metadata": {},
   "source": [
    "**To desing best number of clusters**"
   ]
  },
  {
   "cell_type": "markdown",
   "id": "abdbb6db-d315-4250-84ed-978f4fd306e2",
   "metadata": {},
   "source": [
    "<img src=\"Images/dendrogram-8.jpg\"  style=\"width: 500px;\"/>"
   ]
  },
  {
   "cell_type": "code",
   "execution_count": null,
   "id": "bb6de924-6545-47b8-abe8-12c8d3ac6232",
   "metadata": {},
   "outputs": [],
   "source": []
  }
 ],
 "metadata": {
  "kernelspec": {
   "display_name": "Python 3 (ipykernel)",
   "language": "python",
   "name": "python3"
  },
  "language_info": {
   "codemirror_mode": {
    "name": "ipython",
    "version": 3
   },
   "file_extension": ".py",
   "mimetype": "text/x-python",
   "name": "python",
   "nbconvert_exporter": "python",
   "pygments_lexer": "ipython3",
   "version": "3.9.7"
  }
 },
 "nbformat": 4,
 "nbformat_minor": 5
}
