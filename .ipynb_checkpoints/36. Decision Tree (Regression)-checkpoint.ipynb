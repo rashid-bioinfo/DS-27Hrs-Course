{
 "cells": [
  {
   "cell_type": "markdown",
   "id": "20a3633b-409a-4e9e-ba0d-bcf22c642fd3",
   "metadata": {},
   "source": [
    "# 36. Decision Tree (Regression)"
   ]
  },
  {
   "cell_type": "markdown",
   "id": "6be1e015-4bcb-4a0f-bef2-ef81afe00fb2",
   "metadata": {},
   "source": [
    "**Decision Tree**\n",
    "- Decision Tree is a **Supervised Learning** technique that can be used for both classification and regression problems, but mostly it is preferred for solving **classification problems**\n",
    "- In order to build a tree, we can use the **CART algorithm**, which stands for Classification and Regression Tree algorithm\n",
    "- it splits your data (Binary splitting)\n",
    "- It works on non-linear splitting data\n",
    "- It works as a conditional statement"
   ]
  },
  {
   "cell_type": "markdown",
   "id": "fe3c2179-c99b-48e5-b775-83255bcbfe7d",
   "metadata": {},
   "source": [
    "<img src=\"Images/decision-tree.jpg\"  style=\"width: 400px;\"/>"
   ]
  },
  {
   "cell_type": "markdown",
   "id": "e6bb8d07-e636-4663-95c7-6738b0d55604",
   "metadata": {},
   "source": [
    "<img src=\"Images/decision-tree-2.jpg\"  style=\"width: 800px;\"/>"
   ]
  },
  {
   "cell_type": "code",
   "execution_count": null,
   "id": "605e0219-1eaf-47b9-a28c-e6a6eadc952d",
   "metadata": {},
   "outputs": [],
   "source": []
  },
  {
   "cell_type": "code",
   "execution_count": null,
   "id": "c1f5a386-0c42-45f7-bf56-b685f81fa9c7",
   "metadata": {},
   "outputs": [],
   "source": []
  },
  {
   "cell_type": "code",
   "execution_count": null,
   "id": "576a90bc-4028-4afe-ad63-c284801925d5",
   "metadata": {},
   "outputs": [],
   "source": []
  },
  {
   "cell_type": "code",
   "execution_count": null,
   "id": "4665a173-faee-4e74-86d3-d82b1f63b27b",
   "metadata": {},
   "outputs": [],
   "source": []
  },
  {
   "cell_type": "code",
   "execution_count": null,
   "id": "d429e420-07a5-4c50-ab9a-c6557af9c246",
   "metadata": {},
   "outputs": [],
   "source": []
  }
 ],
 "metadata": {
  "kernelspec": {
   "display_name": "Python 3 (ipykernel)",
   "language": "python",
   "name": "python3"
  },
  "language_info": {
   "codemirror_mode": {
    "name": "ipython",
    "version": 3
   },
   "file_extension": ".py",
   "mimetype": "text/x-python",
   "name": "python",
   "nbconvert_exporter": "python",
   "pygments_lexer": "ipython3",
   "version": "3.9.7"
  }
 },
 "nbformat": 4,
 "nbformat_minor": 5
}
