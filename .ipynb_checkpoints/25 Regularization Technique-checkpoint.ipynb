{
 "cells": [
  {
   "cell_type": "markdown",
   "id": "632bb98e-f76e-4bf0-beff-de9280e0708e",
   "metadata": {},
   "source": [
    "# 25 Regularization Technique"
   ]
  },
  {
   "cell_type": "markdown",
   "id": "7461cf56-15c6-46b1-8b4a-3e883e0d58ca",
   "metadata": {},
   "source": [
    "**L1 (Lasso Regularization) L2 (Ridge Regularization)**"
   ]
  },
  {
   "cell_type": "markdown",
   "id": "3642f9ad-adfc-406d-9ca5-044ae970803d",
   "metadata": {},
   "source": [
    "- Used in linear regression mostly\n",
    "- This is a form of regression, that constraints/regularizes or shrinks the coefficients estimates towards zero\n",
    "- This technique discourages learning a more complex or flexible model, so as to avoid the risk of overfitting.\n",
    "- Regularization can achive this motive with 2 techniques:\n",
    "1) Ridge Regularization/L2\n",
    "2) Lasso Regularization/L1 "
   ]
  },
  {
   "cell_type": "markdown",
   "id": "1edbd35b-2068-469c-8944-b63a78ecc380",
   "metadata": {},
   "source": [
    "- it helps in feature selection\n",
    "- it helps reducing overfitting\n",
    "- it removes the data with smaller coefficients or unwanted columns or columns/data which will have neglibile impact on the final outcome"
   ]
  },
  {
   "cell_type": "markdown",
   "id": "4bd5a61f-3d82-4b20-9c55-42fc9fe6e177",
   "metadata": {},
   "source": [
    "## 25.1 Regularization Technique (Lasoo Regularization/L1)"
   ]
  },
  {
   "cell_type": "markdown",
   "id": "f31d6a8d-ee53-4d32-83c7-d098208f9373",
   "metadata": {},
   "source": [
    "- This is a regularization technique used in feature selection using a **shrinkage method** also referred as the **penalized regression method**.\n",
    "- Lasso regression magnitude of coefficient can be exactly zero"
   ]
  },
  {
   "cell_type": "markdown",
   "id": "ab31fb17-7884-4a01-95fa-6b7803bee3fd",
   "metadata": {},
   "source": [
    "The cost function is defined as:\n",
    "$$\n",
    "\\text{Cost Function} = \\text{Loss} + \\lambda \\sum_{i=1}^{n} \\|w_i\\|\n",
    "$$\n"
   ]
  },
  {
   "cell_type": "markdown",
   "id": "23a983bb-7aa1-45b7-88c7-080ef035799b",
   "metadata": {},
   "source": [
    "**Loss**= sum of squared residual, \n",
    "**lambda** = penalty, \n",
    "**w**  = slope of the curve"
   ]
  },
  {
   "cell_type": "markdown",
   "id": "d7052aaa-277b-4533-9355-2435e56832db",
   "metadata": {},
   "source": [
    "- It helps in feature selection\n",
    "- It makes the column (feature) zero which do not have function in the model"
   ]
  },
  {
   "cell_type": "markdown",
   "id": "7157c02a-c4b6-42fd-b6e4-2d3ba1a882ec",
   "metadata": {},
   "source": [
    "<img src=\"Images/lasso-regularization.jpg\"  style=\"width: 400px;\"/>"
   ]
  },
  {
   "cell_type": "markdown",
   "id": "057cbbb7-1482-4ff6-b78b-39c4330d3be8",
   "metadata": {},
   "source": [
    " - the black line (lambda mod(w)) shifts towards zero iteratively"
   ]
  },
  {
   "cell_type": "markdown",
   "id": "c9252097-bd0f-4cfd-ad46-5b416dfa46dd",
   "metadata": {},
   "source": [
    "## 25.2 Regularization Technique (Ridge Regularization/L2)"
   ]
  },
  {
   "cell_type": "markdown",
   "id": "1c060d30-7fa2-492a-a9ea-be3572c71022",
   "metadata": {},
   "source": [
    "- it is called overfitting regularization technique and it redueces overfitting"
   ]
  },
  {
   "cell_type": "markdown",
   "id": "c23f6424-056a-4654-a749-1cbb14f279e4",
   "metadata": {},
   "source": [
    "Ridge regression, also known as L2 regularization, is an extension to linear regression that introduces a regularization term to redue model complexity and **help prevent overfitting**.\n",
    "Ridge Regression is working value/magnitude of coefficients is almost equal to zero\n"
   ]
  },
  {
   "cell_type": "markdown",
   "id": "06610ec0-7a9e-47a9-af51-e6764a1beba5",
   "metadata": {},
   "source": [
    "Its cost function is defined as:\n",
    "$$\n",
    "\\text{Cost Function} = \\text{Loss} + \\lambda \\sum_{i=1}^{n} \\|w_i\\|^2\n",
    "$$\n"
   ]
  },
  {
   "cell_type": "markdown",
   "id": "67b653e6-c204-46f8-97c9-a54a1d8a8cb7",
   "metadata": {},
   "source": [
    "**Loss**= sum of squared residual, \n",
    "**lambda** = penalty, \n",
    "**w**  = slope of the curve"
   ]
  },
  {
   "cell_type": "markdown",
   "id": "c816751f-41ab-45ee-b09a-35c1ab01fc2a",
   "metadata": {},
   "source": [
    "<img src=\"Images/ridge-regularization.jpg\"  style=\"width: 400px;\"/>"
   ]
  },
  {
   "cell_type": "markdown",
   "id": "3d93c520-0a87-4263-9626-b9dcd12792ad",
   "metadata": {},
   "source": [
    "- it will not make exactly zero, but bring it towards zero\n",
    "- L2 also reduces computational power, means reduces complexity of problem, it speeds up the model building"
   ]
  },
  {
   "cell_type": "code",
   "execution_count": null,
   "id": "16537645-120e-45ba-b9e3-a111144f7ad4",
   "metadata": {},
   "outputs": [],
   "source": []
  }
 ],
 "metadata": {
  "kernelspec": {
   "display_name": "Python 3 (ipykernel)",
   "language": "python",
   "name": "python3"
  },
  "language_info": {
   "codemirror_mode": {
    "name": "ipython",
    "version": 3
   },
   "file_extension": ".py",
   "mimetype": "text/x-python",
   "name": "python",
   "nbconvert_exporter": "python",
   "pygments_lexer": "ipython3",
   "version": "3.9.7"
  }
 },
 "nbformat": 4,
 "nbformat_minor": 5
}
