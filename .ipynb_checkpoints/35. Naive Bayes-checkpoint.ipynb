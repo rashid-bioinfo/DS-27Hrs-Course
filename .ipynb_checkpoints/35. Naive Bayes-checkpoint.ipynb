{
 "cells": [
  {
   "cell_type": "markdown",
   "id": "48e30324-53fd-415b-8b68-f7e28c663de6",
   "metadata": {},
   "source": [
    "## 35. Naive Bayes"
   ]
  },
  {
   "cell_type": "markdown",
   "id": "f468b443-2469-4b56-bbea-280a4a4cd1b4",
   "metadata": {},
   "source": [
    "- These are classification algorithm which work on **conditional probabilty basis**\n",
    "- Naive Bayes is a classification algorithm based on Bayes' theorem.\n",
    "- which is a probability theory that describes the probability of an event, based on prior knowledge of conditions that might be related to the event\n",
    "- **Naive**: It is called Naive b/c it assumes that the occurrence of a certain feature is independent of the occurrence of other features.\n",
    "- **Bayes**: It is called Bayes b/c it depends on the principle of Bayes' Theorem."
   ]
  },
  {
   "cell_type": "markdown",
   "id": "008c14bc-2c89-4343-9744-b65f3163a076",
   "metadata": {},
   "source": [
    "## Conditional Probability"
   ]
  },
  {
   "cell_type": "markdown",
   "id": "ff562b3e-0c19-4346-bac3-8e08ad3088c3",
   "metadata": {},
   "source": [
    "$$\n",
    "\\text{P(E)} = \\frac{\\text{favourable outcome(s)}}{\\text{total outcomes}}\n",
    "$$\n",
    "\n",
    "0 <= P(E) >= 1"
   ]
  },
  {
   "cell_type": "markdown",
   "id": "e2978547-0fda-411d-87d9-c944904cc230",
   "metadata": {},
   "source": [
    "Example: A bag contains 3 red balls and 2 blue balls.\n",
    "$$\n",
    "\\text{P(red balls)} = \\frac{3}{3+2} = 0.60\n",
    "$$"
   ]
  },
  {
   "cell_type": "markdown",
   "id": "1a75a496-e60c-4012-b7c6-1b902b5cd7b6",
   "metadata": {},
   "source": [
    "**Conditional Probability** has 2 more types:\n",
    "1) Indepedent Probability\n",
    "2) Depdent Probability"
   ]
  },
  {
   "cell_type": "markdown",
   "id": "470a91d4-42d0-4a61-8e3b-bb88903961aa",
   "metadata": {},
   "source": [
    "1) **Independent Probability**\n",
    "- Rolling a dice can have following events: {1,2,3,4,5,6}\n",
    "- For single event the probability will be 1/6\n",
    "- The preceding event and followng event both are not dependents on each other\n",
    "\n",
    "2) **Dependent Probability**\n",
    "- It is also called **Conditional Probability**\n",
    "- In above balls example, the probability of P(red balls) = 3/5.\n",
    "- But condition is that when you take the ball out, then do not put it back to the bag.\n",
    "- so if we have taken one red ball from the bag, then there will be 2 red balls left and 4 total balls,\n",
    "- In such circumstance, probability of blue ball is 2/4\n",
    "- Hence the probabily of blue ball is depending upon the probabilty of red balls\n",
    "- so we can express this as:\n",
    "$$\n",
    "P(\\text{Blue Balls}) = P(\\frac{\\text{Blue Balls}}{\\text{Red Balls}}) = P(\\frac{B}{R})\n",
    "$$"
   ]
  },
  {
   "cell_type": "markdown",
   "id": "124ad74f-f7dd-41dc-98b1-76882383374e",
   "metadata": {},
   "source": [
    "Also can be written as:\n",
    "$$\n",
    "P(\\text{R or B}) = P(R) * P(\\frac{B}{R})\n",
    "$$\n",
    "OR\n",
    "$$\n",
    "P(\\text{R or B}) = P(B/R) * P(R) \n",
    "$$"
   ]
  },
  {
   "cell_type": "markdown",
   "id": "1e38cc94-b387-48b7-9d87-a6c0177e8934",
   "metadata": {},
   "source": [
    "**Bayes' Theorem**:\n",
    "$$\n",
    "P(\\text{A n B}) = P(B/A) * P(A)\n",
    "$$\n",
    "as\n",
    "$$\n",
    "P(\\text{A n B}) = P(\\text{B n A})\n",
    "$$\n",
    "so\n",
    "$$\n",
    "P(\\text{B n A}) = P(A/B) * P(B)\n",
    "$$\n",
    "\n"
   ]
  },
  {
   "cell_type": "markdown",
   "id": "f8228ce4-2b59-485a-9430-ccbb41f87b72",
   "metadata": {},
   "source": [
    "<img src=\"Images/venn-diagram.jpg\"  style=\"width: 500px;\"/>"
   ]
  },
  {
   "cell_type": "markdown",
   "id": "782fb6bc-4522-4e9a-bcac-b216913cfb2b",
   "metadata": {},
   "source": [
    "As\n",
    "$$\n",
    "P(\\text{A n B}) = P(\\text{B n A})\n",
    "$$\n",
    "So\n",
    "$$\n",
    " P(B/A) * P(A) = P(A/B) * P(B)\n",
    "$$\n",
    "To find P(A/B)\n",
    "$$\n",
    " P(A/B) = \\frac{P(B/A) * P(A)}{P(B)} \n",
    "$$\n",
    "The above forumula is called **Bayes' Theorem**\n",
    "\n",
    "- This formula states that when event B is occured, then what are chances of event A to come\n"
   ]
  },
  {
   "cell_type": "markdown",
   "id": "da003b3e-31f9-4dde-a5ff-3b03ce580753",
   "metadata": {},
   "source": [
    "## Bayes' Theorem"
   ]
  },
  {
   "cell_type": "markdown",
   "id": "f1a3c4e7-20ba-4104-9160-d5a54bdfa38c",
   "metadata": {},
   "source": [
    "- **Bayes' Theorem** is also known as Bayes' Rule or Bayes' law.\n",
    "- which is used to determine the probability of a hypothesis with prior knowledge.\n",
    "- It depends on the conditional probability.\n",
    "- It is expressed as:\n",
    "$$\n",
    " P(A/B) = \\frac{P(B/A) * P(A)}{P(B)}\n",
    "$$\n",
    "Where:\n",
    "- **P(A/B) is Posterior Probability**: Probability of hypothesis A on the observed event B.\n",
    "- **P(B/A) is Likelihood Probability**:  Probability of hypothesis B when event A is occurring. Probability of the evidence given that the probability of a hypothesis is true.\n",
    "- **P(A) is Prior Probability**: Probability of hypothesis before obeserving the evidence.\n",
    "- **P(B) is Marginal Probability**: Probability of evidence."
   ]
  },
  {
   "cell_type": "code",
   "execution_count": null,
   "id": "ac644a4d-61a9-4dcf-b269-02f64f0de273",
   "metadata": {},
   "outputs": [],
   "source": []
  },
  {
   "cell_type": "code",
   "execution_count": null,
   "id": "090d1750-a9aa-4eb2-ae16-2cdf0c825a84",
   "metadata": {},
   "outputs": [],
   "source": []
  },
  {
   "cell_type": "code",
   "execution_count": null,
   "id": "03173b10-fa56-498d-8431-b1325cb8050b",
   "metadata": {},
   "outputs": [],
   "source": []
  }
 ],
 "metadata": {
  "kernelspec": {
   "display_name": "Python 3 (ipykernel)",
   "language": "python",
   "name": "python3"
  },
  "language_info": {
   "codemirror_mode": {
    "name": "ipython",
    "version": 3
   },
   "file_extension": ".py",
   "mimetype": "text/x-python",
   "name": "python",
   "nbconvert_exporter": "python",
   "pygments_lexer": "ipython3",
   "version": "3.9.7"
  }
 },
 "nbformat": 4,
 "nbformat_minor": 5
}
