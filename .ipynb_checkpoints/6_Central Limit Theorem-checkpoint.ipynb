{
 "cells": [
  {
   "cell_type": "markdown",
   "id": "a923466a-351e-45f3-95dd-4d79e892b251",
   "metadata": {},
   "source": [
    "## 6_Central Limit Theorem"
   ]
  },
  {
   "cell_type": "code",
   "execution_count": 40,
   "id": "83fa8d1d-1b78-48eb-bdda-cfa288f9fd8d",
   "metadata": {},
   "outputs": [],
   "source": [
    "import pandas as pd\n",
    "import numpy as np\n",
    "import matplotlib.pyplot as plt\n",
    "import seaborn as sns"
   ]
  },
  {
   "cell_type": "code",
   "execution_count": 41,
   "id": "0c0c29cd-e867-40cb-9a68-6967fd318011",
   "metadata": {},
   "outputs": [],
   "source": [
    "# Generate random data by using list comprehension\n",
    "\n",
    "pop_data = [np.random.randint(10,100) for i in range(10000)]\n",
    "#pop_data"
   ]
  },
  {
   "cell_type": "code",
   "execution_count": 42,
   "id": "122d7665-af6e-4102-8924-a2f8aef3fe23",
   "metadata": {},
   "outputs": [],
   "source": [
    "# the above line of code could be written as:\n",
    "pop_data = []\n",
    "for i in range(10000):\n",
    "    pop_data.append(np.random.randint(10,100))\n",
    "#pop_data"
   ]
  },
  {
   "cell_type": "code",
   "execution_count": 43,
   "id": "17facd53-18d5-4b32-aac6-0467607351ed",
   "metadata": {},
   "outputs": [
    {
     "data": {
      "text/plain": [
       "10000"
      ]
     },
     "execution_count": 43,
     "metadata": {},
     "output_type": "execute_result"
    }
   ],
   "source": [
    "len(pop_data)"
   ]
  },
  {
   "cell_type": "code",
   "execution_count": 44,
   "id": "84f76a46-7c5e-497f-b4df-da4c5972c4cb",
   "metadata": {},
   "outputs": [
    {
     "data": {
      "text/html": [
       "<div>\n",
       "<style scoped>\n",
       "    .dataframe tbody tr th:only-of-type {\n",
       "        vertical-align: middle;\n",
       "    }\n",
       "\n",
       "    .dataframe tbody tr th {\n",
       "        vertical-align: top;\n",
       "    }\n",
       "\n",
       "    .dataframe thead th {\n",
       "        text-align: right;\n",
       "    }\n",
       "</style>\n",
       "<table border=\"1\" class=\"dataframe\">\n",
       "  <thead>\n",
       "    <tr style=\"text-align: right;\">\n",
       "      <th></th>\n",
       "      <th>pop_data</th>\n",
       "    </tr>\n",
       "  </thead>\n",
       "  <tbody>\n",
       "    <tr>\n",
       "      <th>0</th>\n",
       "      <td>55</td>\n",
       "    </tr>\n",
       "    <tr>\n",
       "      <th>1</th>\n",
       "      <td>22</td>\n",
       "    </tr>\n",
       "    <tr>\n",
       "      <th>2</th>\n",
       "      <td>87</td>\n",
       "    </tr>\n",
       "    <tr>\n",
       "      <th>3</th>\n",
       "      <td>46</td>\n",
       "    </tr>\n",
       "    <tr>\n",
       "      <th>4</th>\n",
       "      <td>29</td>\n",
       "    </tr>\n",
       "    <tr>\n",
       "      <th>...</th>\n",
       "      <td>...</td>\n",
       "    </tr>\n",
       "    <tr>\n",
       "      <th>9995</th>\n",
       "      <td>51</td>\n",
       "    </tr>\n",
       "    <tr>\n",
       "      <th>9996</th>\n",
       "      <td>60</td>\n",
       "    </tr>\n",
       "    <tr>\n",
       "      <th>9997</th>\n",
       "      <td>42</td>\n",
       "    </tr>\n",
       "    <tr>\n",
       "      <th>9998</th>\n",
       "      <td>99</td>\n",
       "    </tr>\n",
       "    <tr>\n",
       "      <th>9999</th>\n",
       "      <td>48</td>\n",
       "    </tr>\n",
       "  </tbody>\n",
       "</table>\n",
       "<p>10000 rows × 1 columns</p>\n",
       "</div>"
      ],
      "text/plain": [
       "      pop_data\n",
       "0           55\n",
       "1           22\n",
       "2           87\n",
       "3           46\n",
       "4           29\n",
       "...        ...\n",
       "9995        51\n",
       "9996        60\n",
       "9997        42\n",
       "9998        99\n",
       "9999        48\n",
       "\n",
       "[10000 rows x 1 columns]"
      ]
     },
     "execution_count": 44,
     "metadata": {},
     "output_type": "execute_result"
    }
   ],
   "source": [
    "# TO convert population data into a csv file\n",
    "pop_table = pd.DataFrame({'pop_data':pop_data})\n",
    "pop_table"
   ]
  },
  {
   "cell_type": "code",
   "execution_count": 45,
   "id": "4d52d458-361c-4636-8165-b45f289de1bd",
   "metadata": {},
   "outputs": [
    {
     "data": {
      "image/png": "[encoded data removed]",
      "text/plain": [
       "<Figure size 288x216 with 1 Axes>"
      ]
     },
     "metadata": {
      "needs_background": "light"
     },
     "output_type": "display_data"
    }
   ],
   "source": [
    "plt.figure(figsize=(4,3))\n",
    "sns.kdeplot(x='pop_data', data=pop_table)\n",
    "plt.show()"
   ]
  },
  {
   "cell_type": "markdown",
   "id": "f5d423dc-336e-4baf-8e42-235d2850c0da",
   "metadata": {},
   "source": [
    "#### above graph shows that our data is not normally distributed, so we will apply CLT"
   ]
  },
  {
   "cell_type": "code",
   "execution_count": 46,
   "id": "8c9ae96c-71d6-4698-8f34-9882d59bb6b9",
   "metadata": {},
   "outputs": [
    {
     "data": {
      "text/plain": [
       "1000.0"
      ]
     },
     "execution_count": 46,
     "metadata": {},
     "output_type": "execute_result"
    }
   ],
   "source": [
    "# First we will pick up random samples from population data\n",
    "# Pre-req: Sample should not be more than 10% population and more than 30 samples should be taken\n",
    "\n",
    "# so calculate 10% of 10000 data\n",
    "\n",
    "10/100 * 10000\n",
    "\n"
   ]
  },
  {
   "cell_type": "markdown",
   "id": "a5b16f3c-4206-42fd-83e3-f19326a94058",
   "metadata": {},
   "source": [
    "#### That means i.e. n>30 and n< 1000, so are taking n= [50,500]"
   ]
  },
  {
   "cell_type": "code",
   "execution_count": 47,
   "id": "42281ba4-4447-413f-b882-01a0a26e310c",
   "metadata": {},
   "outputs": [
    {
     "data": {
      "text/plain": [
       "82"
      ]
     },
     "execution_count": 47,
     "metadata": {},
     "output_type": "execute_result"
    }
   ],
   "source": [
    "# To pick random data from population data\n",
    "np.random.choice(pop_data)"
   ]
  },
  {
   "cell_type": "code",
   "execution_count": null,
   "id": "bdfa4863-7406-4c1c-a621-1ec9022ebebe",
   "metadata": {},
   "outputs": [],
   "source": [
    "# So will take sample data less than 1000\n",
    "sample_mean = []\n",
    "# to take number of sample data 50 (to meet requirement n>30)\n",
    "for no_of_sample in range(50):\n",
    "    sample_data = []\n",
    "    # to take number of sample data less than 1000 (so will take 500 sample)\n",
    "    for i in range(500):\n",
    "        sample_data.append(np.random.choice(pop_data))\n",
    "    # To calculate mean of sample data\n",
    "    sample_mean.append(np.mean(sample_data)) "
   ]
  },
  {
   "cell_type": "code",
   "execution_count": null,
   "id": "b3579c06-2a14-4a9f-9516-83f1867e917a",
   "metadata": {},
   "outputs": [],
   "source": [
    "len(sample_data), len(sample_mean)"
   ]
  },
  {
   "cell_type": "code",
   "execution_count": null,
   "id": "1752d990-518c-4073-b59f-3235fc715296",
   "metadata": {},
   "outputs": [],
   "source": [
    "sample_data"
   ]
  },
  {
   "cell_type": "code",
   "execution_count": null,
   "id": "89191565-6aab-44e4-9d1e-a221daca2243",
   "metadata": {},
   "outputs": [],
   "source": [
    "sample_mean"
   ]
  },
  {
   "cell_type": "code",
   "execution_count": null,
   "id": "c61a7e02-edda-460d-be58-11caf08a8689",
   "metadata": {},
   "outputs": [],
   "source": [
    "# To see data in sample_mean is normally distributed or not\n",
    "sample_mean_DF = pd.DataFrame({\"Sample_mean\":sample_mean})"
   ]
  },
  {
   "cell_type": "code",
   "execution_count": null,
   "id": "0eb94fbf-b1af-4279-bbda-d71534961539",
   "metadata": {},
   "outputs": [],
   "source": [
    "sample_mean_DF"
   ]
  },
  {
   "cell_type": "code",
   "execution_count": null,
   "id": "cd8a2383-ce06-43f8-b56b-387c3afb3537",
   "metadata": {},
   "outputs": [],
   "source": [
    "plt.figure(figsize=(4,5))\n",
    "sns.kdeplot(x=\"Sample_mean\", data=sample_mean_DF)\n",
    "plt.show()"
   ]
  },
  {
   "cell_type": "markdown",
   "id": "ede49709-df5f-40b5-8edc-d26cbd9bf7ec",
   "metadata": {},
   "source": [
    "#### So the data is normally distributed"
   ]
  },
  {
   "cell_type": "code",
   "execution_count": null,
   "id": "2edab5cc-74c9-4f2e-9928-2def8fcc7fd5",
   "metadata": {},
   "outputs": [],
   "source": [
    "# To meat another requirement of CLT that is the mean of population data and the mean of sample data mean should be approximately equal\n",
    "# so we will check the both means\n",
    "np.mean(pop_data), np.mean(sample_mean)"
   ]
  }
 ],
 "metadata": {
  "kernelspec": {
   "display_name": "Python 3 (ipykernel)",
   "language": "python",
   "name": "python3"
  },
  "language_info": {
   "codemirror_mode": {
    "name": "ipython",
    "version": 3
   },
   "file_extension": ".py",
   "mimetype": "text/x-python",
   "name": "python",
   "nbconvert_exporter": "python",
   "pygments_lexer": "ipython3",
   "version": "3.9.7"
  }
 },
 "nbformat": 4,
 "nbformat_minor": 5
}
