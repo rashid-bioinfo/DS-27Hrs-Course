{
 "cells": [
  {
   "cell_type": "markdown",
   "id": "c983abb7-aa10-4b23-aa94-b47c701b16d5",
   "metadata": {},
   "source": [
    "### For inserting image:\n",
    "![Alt Text](image_path_or_URL)'"
   ]
  },
  {
   "cell_type": "code",
   "execution_count": 2,
   "id": "9815d2df-af95-44db-b8d9-b035f700acea",
   "metadata": {},
   "outputs": [
    {
     "ename": "SyntaxError",
     "evalue": "invalid syntax (Temp/ipykernel_1428/4047173703.py, line 1)",
     "output_type": "error",
     "traceback": [
      "\u001b[1;36m  File \u001b[1;32m\"C:\\Users\\rashi\\AppData\\Local\\Temp/ipykernel_1428/4047173703.py\"\u001b[1;36m, line \u001b[1;32m1\u001b[0m\n\u001b[1;33m    <img src=\"Images/regression-cost-fucntion.jpg\"  style=\"width: 400px;\"/>\u001b[0m\n\u001b[1;37m    ^\u001b[0m\n\u001b[1;31mSyntaxError\u001b[0m\u001b[1;31m:\u001b[0m invalid syntax\n"
     ]
    }
   ],
   "source": [
    "<img src=\"Images/regression-cost-fucntion.jpg\"  style=\"width: 400px;\"/>"
   ]
  },
  {
   "cell_type": "code",
   "execution_count": null,
   "id": "207f139a-f799-4c85-b17b-06e4ee4d234a",
   "metadata": {},
   "outputs": [],
   "source": []
  },
  {
   "cell_type": "markdown",
   "id": "1c3e2514-bc7a-4d41-9f4d-5c40f4a6c2d7",
   "metadata": {},
   "source": []
  }
 ],
 "metadata": {
  "kernelspec": {
   "display_name": "Python 3 (ipykernel)",
   "language": "python",
   "name": "python3"
  },
  "language_info": {
   "codemirror_mode": {
    "name": "ipython",
    "version": 3
   },
   "file_extension": ".py",
   "mimetype": "text/x-python",
   "name": "python",
   "nbconvert_exporter": "python",
   "pygments_lexer": "ipython3",
   "version": "3.9.7"
  }
 },
 "nbformat": 4,
 "nbformat_minor": 5
}
