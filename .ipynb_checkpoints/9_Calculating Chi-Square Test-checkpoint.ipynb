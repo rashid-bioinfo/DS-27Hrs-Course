{
 "cells": [
  {
   "cell_type": "markdown",
   "id": "2d672a34-4e1b-473e-9c4a-e2824e7ab253",
   "metadata": {},
   "source": [
    "## 9_Calculating Chi-Square Test"
   ]
  },
  {
   "cell_type": "markdown",
   "id": "33b8b5e3-afa8-4831-bdbe-090cb8b35c9a",
   "metadata": {},
   "source": [
    "### 9.1_To check goodness of data"
   ]
  },
  {
   "cell_type": "code",
   "execution_count": 1,
   "id": "1b736f43-6a9c-48e3-a3f3-99c230598d72",
   "metadata": {},
   "outputs": [],
   "source": [
    "import numpy as np"
   ]
  },
  {
   "cell_type": "code",
   "execution_count": 4,
   "id": "0559368e-574f-4728-986f-bfad08dcbf2b",
   "metadata": {},
   "outputs": [],
   "source": [
    "ob = np.array([22,17,20,26,22,13])\n",
    "ex = np.array([20,20,20,20,20,20])"
   ]
  },
  {
   "cell_type": "code",
   "execution_count": 5,
   "id": "6b1ab877-ec40-474e-a4dd-aba60e8437e4",
   "metadata": {},
   "outputs": [
    {
     "data": {
      "text/plain": [
       "array([ 2, -3,  0,  6,  2, -7])"
      ]
     },
     "execution_count": 5,
     "metadata": {},
     "output_type": "execute_result"
    }
   ],
   "source": [
    "ob-ex"
   ]
  },
  {
   "cell_type": "code",
   "execution_count": 9,
   "id": "73c4d2d0-3d90-465c-9814-94904c9ab1a9",
   "metadata": {},
   "outputs": [
    {
     "data": {
      "text/plain": [
       "5.1000000000000005"
      ]
     },
     "execution_count": 9,
     "metadata": {},
     "output_type": "execute_result"
    }
   ],
   "source": [
    "np.sum(np.square(ob-ex)/ex)"
   ]
  },
  {
   "cell_type": "markdown",
   "id": "50494106-2e5d-4276-9b50-c3892ee06f0d",
   "metadata": {},
   "source": [
    "### 9.2_To check dependency of variables"
   ]
  },
  {
   "cell_type": "code",
   "execution_count": 22,
   "id": "4d5b3695-0f80-4d09-8888-30e2722dc852",
   "metadata": {},
   "outputs": [],
   "source": [
    "row1 = np.array([40,45,25,10])\n",
    "row2 = np.array([35,30,20,30])"
   ]
  },
  {
   "cell_type": "code",
   "execution_count": 25,
   "id": "d3bae353-74fd-4055-be3c-90f3ad2b5646",
   "metadata": {},
   "outputs": [
    {
     "data": {
      "text/plain": [
       "array([120, 115])"
      ]
     },
     "execution_count": 25,
     "metadata": {},
     "output_type": "execute_result"
    }
   ],
   "source": [
    "sum_r1 = np.sum(row1)\n",
    "sum_r2 = np.sum(row2)\n",
    "sum_row = np.array([sum_r1, sum_r2])\n",
    "sum_row"
   ]
  },
  {
   "cell_type": "code",
   "execution_count": 26,
   "id": "bb29549b-7300-423e-a8ef-b5b2d7c0f5b8",
   "metadata": {},
   "outputs": [
    {
     "data": {
      "text/plain": [
       "array([75, 75, 45, 40])"
      ]
     },
     "execution_count": 26,
     "metadata": {},
     "output_type": "execute_result"
    }
   ],
   "source": [
    "sum_col = row1 + row2\n",
    "sum_col"
   ]
  },
  {
   "cell_type": "code",
   "execution_count": 32,
   "id": "32dbb417-3e36-4348-b8da-707f72aaf778",
   "metadata": {},
   "outputs": [
    {
     "name": "stdout",
     "output_type": "stream",
     "text": [
      "[38.297872340425535, 38.297872340425535, 22.97872340425532, 20.425531914893618, 36.702127659574465, 36.702127659574465, 22.02127659574468, 19.574468085106382]\n"
     ]
    }
   ],
   "source": [
    "exp = []\n",
    "for i in sum_row:\n",
    "    for j in sum_col:\n",
    "        exp.append(i*j/235)\n",
    "print(exp)"
   ]
  },
  {
   "cell_type": "code",
   "execution_count": 34,
   "id": "7abeb4ce-14b5-4475-9bd8-a0be1e41a146",
   "metadata": {},
   "outputs": [],
   "source": [
    "# join both columns for observed values\n",
    "obj = np.array([40,45,25,10,35,30,20,30])"
   ]
  },
  {
   "cell_type": "code",
   "execution_count": 36,
   "id": "43b6a281-57c5-4e0d-ae3e-920127262fe8",
   "metadata": {},
   "outputs": [
    {
     "data": {
      "text/plain": [
       "13.788747987117553"
      ]
     },
     "execution_count": 36,
     "metadata": {},
     "output_type": "execute_result"
    }
   ],
   "source": [
    "np.sum(np.square(obj - exp)/exp)"
   ]
  },
  {
   "cell_type": "code",
   "execution_count": null,
   "id": "c04e4bcd-abd3-4871-b7a7-4f77bbe2371a",
   "metadata": {},
   "outputs": [],
   "source": []
  }
 ],
 "metadata": {
  "kernelspec": {
   "display_name": "Python 3 (ipykernel)",
   "language": "python",
   "name": "python3"
  },
  "language_info": {
   "codemirror_mode": {
    "name": "ipython",
    "version": 3
   },
   "file_extension": ".py",
   "mimetype": "text/x-python",
   "name": "python",
   "nbconvert_exporter": "python",
   "pygments_lexer": "ipython3",
   "version": "3.9.7"
  }
 },
 "nbformat": 4,
 "nbformat_minor": 5
}
