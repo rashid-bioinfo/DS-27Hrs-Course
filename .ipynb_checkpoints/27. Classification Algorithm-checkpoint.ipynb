{
 "cells": [
  {
   "cell_type": "markdown",
   "id": "18f75e41-fe0f-46a8-9edc-4da67a1d45d6",
   "metadata": {},
   "source": [
    "# 27. Classification Algorithm"
   ]
  },
  {
   "cell_type": "markdown",
   "id": "ae36c8e8-7682-4def-8d1c-ae1a25f9e28d",
   "metadata": {},
   "source": [
    "- The classification algorithm is used to idenitfy the category of new observations on the basis of training data\n",
    "- In classification, a program learns from the given dataset or observations and the classifies new observation into a number of classes or groups\n",
    "- Such as, Yes or No, 0 or 1, Spam or Not Spam, cat or dog, etc. Classes can be called as targets/labels or categories\n",
    "- The output is in discrete nature"
   ]
  },
  {
   "cell_type": "markdown",
   "id": "771ee5e4-220e-4159-b3a1-d82633ff8dbb",
   "metadata": {},
   "source": [
    "**There are two types of classifications:**\n",
    "1) **Binary Classifier:** If the classification problem has only two possible outcomes, then it is called as Binary Classifier.\n",
    "- Example: Spam or Not spam, cat or dog etc.\n",
    "2) **Multi-class Classifier:** If a classification problem has more than two outcomes, then it is called as Multi-class Classifier.\n",
    "- Example: Classification of types of crops, classification of type of music"
   ]
  },
  {
   "cell_type": "markdown",
   "id": "6a1bf26e-bc4f-491b-bad7-879ec828e916",
   "metadata": {},
   "source": [
    "### Types of ML Classification Algorithms\n",
    "1) **Non-linear Models:**\n",
    "- K-Nearest Neighbours\n",
    "- Support Vector Machines (SVM)\n",
    "- Naive Bayes\n",
    "- Decision Tree Classification\n",
    "- Random Forest Classification\n",
    "\n",
    "2) **Linear Models:**\n",
    "- Logistic Regression\n",
    "- Support Vector Machines"
   ]
  },
  {
   "cell_type": "markdown",
   "id": "a93d3a68-e7f0-47f4-a311-80432bd83ed9",
   "metadata": {},
   "source": [
    "Please note that Naive Bayes algo and Logistic Regression can only be used for classification. The rest of algos above can be used for classification as well as for regression "
   ]
  },
  {
   "cell_type": "markdown",
   "id": "44573cae-5b12-4f67-befc-98bbc26c70bc",
   "metadata": {},
   "source": [
    "### Evaluating a Classification Model\n",
    "1) **Log Loss or Cross-Entropy Loss:** It calculates losses in the model and give output through gradient descent\n",
    "2) **Confusion Matrix:** It is important. It gives reason why a model is reject even though it was showing accuracy\n",
    "4) **AUC-ROC Curve:** It tells how good a particular model is working"
   ]
  },
  {
   "cell_type": "code",
   "execution_count": null,
   "id": "7710d59a-3b2c-49d4-8d58-b4aebcab13a6",
   "metadata": {},
   "outputs": [],
   "source": []
  }
 ],
 "metadata": {
  "kernelspec": {
   "display_name": "Python 3 (ipykernel)",
   "language": "python",
   "name": "python3"
  },
  "language_info": {
   "codemirror_mode": {
    "name": "ipython",
    "version": 3
   },
   "file_extension": ".py",
   "mimetype": "text/x-python",
   "name": "python",
   "nbconvert_exporter": "python",
   "pygments_lexer": "ipython3",
   "version": "3.9.7"
  }
 },
 "nbformat": 4,
 "nbformat_minor": 5
}
