{
 "cells": [
  {
   "cell_type": "markdown",
   "id": "2d17501d-8a96-40db-9ce7-9cb2ac380492",
   "metadata": {},
   "source": [
    "# 53. K-Means Clustering"
   ]
  },
  {
   "cell_type": "markdown",
   "id": "dad52fbe-a721-4a5c-8033-e454b173c081",
   "metadata": {},
   "source": [
    "- K-Means Clustering is an unsupervised learning algorithm, which groups the unlabelled dataset into different clusters.\n",
    "- K defines the number of pre-defined clusters that need to be created in the process."
   ]
  },
  {
   "cell_type": "markdown",
   "id": "47f07d73-4db8-428e-bc06-b86bba83334c",
   "metadata": {},
   "source": [
    "**K-Means algo:**\n",
    "- First decide the centriod, center in the dataset\n",
    "- take two data point, and draw a line b/w them\n",
    "- pass another line from middle of the line\n",
    "- take neighbouring data points from the decided central data point"
   ]
  },
  {
   "cell_type": "markdown",
   "id": "47945742-3d91-4e39-ade8-02582a9c3b9a",
   "metadata": {},
   "source": [
    "**How K-Means work:**\n",
    "1) Take random sample point\n",
    "2) Create groups\n",
    "3) Search nearest point\n",
    "4) Calculate mean (Move points)"
   ]
  },
  {
   "cell_type": "markdown",
   "id": "50c42b09-3ff2-47f4-9880-99aaac65043b",
   "metadata": {},
   "source": [
    "<img src=\"Images/k-means-clusters.jpg\"  style=\"width: 500px;\"/>"
   ]
  },
  {
   "cell_type": "markdown",
   "id": "68a5c9f4-a3ef-4365-9b3a-2810477fcc97",
   "metadata": {},
   "source": [
    "**Elbow Method:**\n",
    "- The Elbow method is one of the most popular ways to find the optimal number of clusters\n",
    "- This method uses the concept of WCSS value. WCSS stands forWithin-Cluster Sum of Squares, which defines the total variations within a cluster.\n",
    "- The formuls of **WCSS** is:\n",
    "\n",
    "$$\n",
    "\\text{WCSS} = \\sum_{i=1}^{K} \\sum_{x \\in C_i} \\| x - \\mu_i \\|^2\n",
    "$$\n",
    "\n",
    "**where:**\n",
    "\n",
    "- \\(K\\) = Number of clusters\n",
    "- \\(C_i\\) = \\(i\\)-th cluster\n",
    "- \\(x\\) = A data point in cluster \\(C_i\\)\n",
    "- \\(\\mu_i\\) = Centroid of cluster \\(C_i\\)\n",
    "- \\(\\| x - \\mu_i \\|\\) = Euclidean distance between data point \\(x\\) and centroid \\(\\mu_i\\)\n"
   ]
  },
  {
   "cell_type": "markdown",
   "id": "f0749c16-8d05-4dbc-b2af-203ccfdada22",
   "metadata": {},
   "source": [
    "**How does WCSS is calculated:**\n",
    "- Caclulate the distance from decided central data point and its neighbouring data points (x - u)\n",
    "- Take square of the distance\n",
    "- Sum of the distances from central point and all neighbouring data points"
   ]
  },
  {
   "cell_type": "markdown",
   "id": "39937388-a6ec-49ec-bb58-6d9c24b7c05a",
   "metadata": {},
   "source": [
    "<img src=\"Images/k-means-clusters-2.jpg\"  style=\"width: 500px;\"/>"
   ]
  },
  {
   "cell_type": "markdown",
   "id": "553e3f8e-a790-45a1-842e-4ee769febfb3",
   "metadata": {},
   "source": [
    "**K-Means ++:** To have best clustering in the data. It takes 2 decided points away from each other."
   ]
  },
  {
   "cell_type": "code",
   "execution_count": null,
   "id": "6a55a197-5201-4b96-8ac8-a10a64e1af43",
   "metadata": {},
   "outputs": [],
   "source": []
  }
 ],
 "metadata": {
  "kernelspec": {
   "display_name": "Python 3 (ipykernel)",
   "language": "python",
   "name": "python3"
  },
  "language_info": {
   "codemirror_mode": {
    "name": "ipython",
    "version": 3
   },
   "file_extension": ".py",
   "mimetype": "text/x-python",
   "name": "python",
   "nbconvert_exporter": "python",
   "pygments_lexer": "ipython3",
   "version": "3.9.7"
  }
 },
 "nbformat": 4,
 "nbformat_minor": 5
}
