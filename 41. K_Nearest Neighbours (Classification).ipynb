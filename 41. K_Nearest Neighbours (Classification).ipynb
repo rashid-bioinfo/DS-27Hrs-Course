{
 "cells": [
  {
   "cell_type": "markdown",
   "id": "b9b7c1f6-3888-4221-bd00-995a782a9341",
   "metadata": {},
   "source": [
    "# 41. K_Nearest Neighbours (Classification)"
   ]
  },
  {
   "cell_type": "markdown",
   "id": "4456ef2f-22ef-4660-97c0-4fda2d79c7b6",
   "metadata": {},
   "source": [
    "- Used for non-linear data\n",
    "- K-NN can be used for regression as well as for classification but mostly it is used for the classification problems\n",
    "- K-NN is a non-parametric algorithm, which means it does not make any assumption on underlying data\n",
    "- It is also called a **lazy learner algorithm**"
   ]
  },
  {
   "cell_type": "markdown",
   "id": "c7fcdf75-b8f8-486e-b3c4-1a85a89dbbb9",
   "metadata": {},
   "source": [
    "## 41.1 How does K-NN Work?"
   ]
  },
  {
   "cell_type": "markdown",
   "id": "08b288da-b933-43fd-88d7-71b73a6b2468",
   "metadata": {},
   "source": [
    "<img src=\"Images/knn.jpg\"  style=\"width: 550px;\"/>"
   ]
  },
  {
   "cell_type": "markdown",
   "id": "5f78727b-935b-45c8-b13a-011d7f296bd0",
   "metadata": {},
   "source": [
    "- It calculate distance from all neighboring data point and find the nearest data point\n",
    "- It will calculate the nature of that data point\n",
    "- The distance is calculated based on nature of projects based on two methods:\n",
    "1) Manhattan distance (L1)\n",
    "2) Euclidean distance (L2)\n",
    "- K-value varies according to dataset. It is a hypo-parameter which needs tuning"
   ]
  },
  {
   "cell_type": "markdown",
   "id": "629542b6-f2ca-42be-9854-02fb4f294cd3",
   "metadata": {},
   "source": [
    "<img src=\"Images/knn-2.jpg\"  style=\"width: 500px;\"/>"
   ]
  },
  {
   "cell_type": "code",
   "execution_count": null,
   "id": "c3e0c4e4-be51-46a3-b4d1-224fbcfc5b4a",
   "metadata": {},
   "outputs": [],
   "source": []
  }
 ],
 "metadata": {
  "kernelspec": {
   "display_name": "Python 3 (ipykernel)",
   "language": "python",
   "name": "python3"
  },
  "language_info": {
   "codemirror_mode": {
    "name": "ipython",
    "version": 3
   },
   "file_extension": ".py",
   "mimetype": "text/x-python",
   "name": "python",
   "nbconvert_exporter": "python",
   "pygments_lexer": "ipython3",
   "version": "3.9.7"
  }
 },
 "nbformat": 4,
 "nbformat_minor": 5
}
