{
 "cells": [
  {
   "cell_type": "code",
   "execution_count": 3,
   "id": "6300d5df-4649-49b6-ab8a-e1404d220065",
   "metadata": {},
   "outputs": [
    {
     "name": "stdout",
     "output_type": "stream",
     "text": [
      "Collecting jupyter_contrib_nbextensions\n",
      "  Downloading jupyter_contrib_nbextensions-0.7.0.tar.gz (23.5 MB)\n",
      "     -------------------------------------- 23.5/23.5 MB 691.6 kB/s eta 0:00:00\n",
      "  Installing build dependencies: started\n",
      "  Installing build dependencies: still running...\n",
      "  Installing build dependencies: finished with status 'done'\n",
      "  Getting requirements to build wheel: started\n",
      "  Getting requirements to build wheel: finished with status 'done'\n"
     ]
    },
    {
     "name": "stderr",
     "output_type": "stream",
     "text": [
      "\n",
      "[notice] A new release of pip is available: 24.1.2 -> 24.2\n",
      "[notice] To update, run: python.exe -m pip install --upgrade pip\n"
     ]
    },
    {
     "name": "stdout",
     "output_type": "stream",
     "text": [
      "  Preparing metadata (pyproject.toml): started\n",
      "  Preparing metadata (pyproject.toml): finished with status 'done'\n",
      "Requirement already satisfied: ipython-genutils in c:\\users\\rashi\\appdata\\local\\programs\\python\\python39\\lib\\site-packages (from jupyter_contrib_nbextensions) (0.2.0)\n",
      "Collecting jupyter-contrib-core>=0.3.3 (from jupyter_contrib_nbextensions)\n",
      "  Downloading jupyter_contrib_core-0.4.2.tar.gz (17 kB)\n",
      "  Installing build dependencies: started\n",
      "  Installing build dependencies: still running...\n",
      "  Installing build dependencies: finished with status 'done'\n",
      "  Getting requirements to build wheel: started\n",
      "  Getting requirements to build wheel: finished with status 'done'\n",
      "  Preparing metadata (pyproject.toml): started\n",
      "  Preparing metadata (pyproject.toml): finished with status 'done'\n",
      "Requirement already satisfied: jupyter-core in c:\\users\\rashi\\appdata\\local\\programs\\python\\python39\\lib\\site-packages (from jupyter_contrib_nbextensions) (5.7.2)\n",
      "Collecting jupyter-highlight-selected-word>=0.1.1 (from jupyter_contrib_nbextensions)\n",
      "  Downloading jupyter_highlight_selected_word-0.2.0-py2.py3-none-any.whl.metadata (730 bytes)\n",
      "Collecting jupyter-nbextensions-configurator>=0.4.0 (from jupyter_contrib_nbextensions)\n",
      "  Downloading jupyter_nbextensions_configurator-0.6.4-py2.py3-none-any.whl.metadata (1.8 kB)\n",
      "Requirement already satisfied: nbconvert>=6.0 in c:\\users\\rashi\\appdata\\local\\programs\\python\\python39\\lib\\site-packages (from jupyter_contrib_nbextensions) (7.16.4)\n",
      "Requirement already satisfied: notebook>=6.0 in c:\\users\\rashi\\appdata\\local\\programs\\python\\python39\\lib\\site-packages (from jupyter_contrib_nbextensions) (7.2.1)\n",
      "Requirement already satisfied: tornado in c:\\users\\rashi\\appdata\\local\\programs\\python\\python39\\lib\\site-packages (from jupyter_contrib_nbextensions) (6.4.1)\n",
      "Requirement already satisfied: traitlets>=4.1 in c:\\users\\rashi\\appdata\\local\\programs\\python\\python39\\lib\\site-packages (from jupyter_contrib_nbextensions) (5.14.3)\n",
      "Requirement already satisfied: lxml in c:\\users\\rashi\\appdata\\local\\programs\\python\\python39\\lib\\site-packages (from jupyter_contrib_nbextensions) (4.9.3)\n",
      "Requirement already satisfied: setuptools in c:\\users\\rashi\\appdata\\local\\programs\\python\\python39\\lib\\site-packages (from jupyter-contrib-core>=0.3.3->jupyter_contrib_nbextensions) (57.4.0)\n",
      "Requirement already satisfied: jupyter-server in c:\\users\\rashi\\appdata\\local\\programs\\python\\python39\\lib\\site-packages (from jupyter-nbextensions-configurator>=0.4.0->jupyter_contrib_nbextensions) (2.14.1)\n",
      "Requirement already satisfied: pyyaml in c:\\users\\rashi\\appdata\\local\\programs\\python\\python39\\lib\\site-packages (from jupyter-nbextensions-configurator>=0.4.0->jupyter_contrib_nbextensions) (6.0.1)\n",
      "Requirement already satisfied: beautifulsoup4 in c:\\users\\rashi\\appdata\\local\\programs\\python\\python39\\lib\\site-packages (from nbconvert>=6.0->jupyter_contrib_nbextensions) (4.12.2)\n",
      "Requirement already satisfied: bleach!=5.0.0 in c:\\users\\rashi\\appdata\\local\\programs\\python\\python39\\lib\\site-packages (from nbconvert>=6.0->jupyter_contrib_nbextensions) (4.1.0)\n",
      "Requirement already satisfied: defusedxml in c:\\users\\rashi\\appdata\\local\\programs\\python\\python39\\lib\\site-packages (from nbconvert>=6.0->jupyter_contrib_nbextensions) (0.7.1)\n",
      "Requirement already satisfied: importlib-metadata>=3.6 in c:\\users\\rashi\\appdata\\local\\programs\\python\\python39\\lib\\site-packages (from nbconvert>=6.0->jupyter_contrib_nbextensions) (6.8.0)\n",
      "Requirement already satisfied: jinja2>=3.0 in c:\\users\\rashi\\appdata\\local\\programs\\python\\python39\\lib\\site-packages (from nbconvert>=6.0->jupyter_contrib_nbextensions) (3.1.2)\n",
      "Requirement already satisfied: jupyterlab-pygments in c:\\users\\rashi\\appdata\\local\\programs\\python\\python39\\lib\\site-packages (from nbconvert>=6.0->jupyter_contrib_nbextensions) (0.1.2)\n",
      "Requirement already satisfied: markupsafe>=2.0 in c:\\users\\rashi\\appdata\\local\\programs\\python\\python39\\lib\\site-packages (from nbconvert>=6.0->jupyter_contrib_nbextensions) (2.1.3)\n",
      "Requirement already satisfied: mistune<4,>=2.0.3 in c:\\users\\rashi\\appdata\\local\\programs\\python\\python39\\lib\\site-packages (from nbconvert>=6.0->jupyter_contrib_nbextensions) (3.0.2)\n",
      "Requirement already satisfied: nbclient>=0.5.0 in c:\\users\\rashi\\appdata\\local\\programs\\python\\python39\\lib\\site-packages (from nbconvert>=6.0->jupyter_contrib_nbextensions) (0.5.9)\n",
      "Requirement already satisfied: nbformat>=5.7 in c:\\users\\rashi\\appdata\\local\\programs\\python\\python39\\lib\\site-packages (from nbconvert>=6.0->jupyter_contrib_nbextensions) (5.10.4)\n",
      "Requirement already satisfied: packaging in c:\\users\\rashi\\appdata\\local\\programs\\python\\python39\\lib\\site-packages (from nbconvert>=6.0->jupyter_contrib_nbextensions) (24.1)\n",
      "Requirement already satisfied: pandocfilters>=1.4.1 in c:\\users\\rashi\\appdata\\local\\programs\\python\\python39\\lib\\site-packages (from nbconvert>=6.0->jupyter_contrib_nbextensions) (1.5.0)\n",
      "Requirement already satisfied: pygments>=2.4.1 in c:\\users\\rashi\\appdata\\local\\programs\\python\\python39\\lib\\site-packages (from nbconvert>=6.0->jupyter_contrib_nbextensions) (2.11.1)\n",
      "Requirement already satisfied: tinycss2 in c:\\users\\rashi\\appdata\\local\\programs\\python\\python39\\lib\\site-packages (from nbconvert>=6.0->jupyter_contrib_nbextensions) (1.3.0)\n",
      "Requirement already satisfied: platformdirs>=2.5 in c:\\users\\rashi\\appdata\\local\\programs\\python\\python39\\lib\\site-packages (from jupyter-core->jupyter_contrib_nbextensions) (4.2.2)\n",
      "Requirement already satisfied: pywin32>=300 in c:\\users\\rashi\\appdata\\local\\programs\\python\\python39\\lib\\site-packages (from jupyter-core->jupyter_contrib_nbextensions) (303)\n",
      "Requirement already satisfied: jupyterlab-server<3,>=2.27.1 in c:\\users\\rashi\\appdata\\local\\programs\\python\\python39\\lib\\site-packages (from notebook>=6.0->jupyter_contrib_nbextensions) (2.27.2)\n",
      "Requirement already satisfied: jupyterlab<4.3,>=4.2.0 in c:\\users\\rashi\\appdata\\local\\programs\\python\\python39\\lib\\site-packages (from notebook>=6.0->jupyter_contrib_nbextensions) (4.2.2)\n",
      "Requirement already satisfied: notebook-shim<0.3,>=0.2 in c:\\users\\rashi\\appdata\\local\\programs\\python\\python39\\lib\\site-packages (from notebook>=6.0->jupyter_contrib_nbextensions) (0.2.4)\n",
      "Requirement already satisfied: six>=1.9.0 in c:\\users\\rashi\\appdata\\roaming\\python\\python39\\site-packages (from bleach!=5.0.0->nbconvert>=6.0->jupyter_contrib_nbextensions) (1.15.0)\n",
      "Requirement already satisfied: webencodings in c:\\users\\rashi\\appdata\\local\\programs\\python\\python39\\lib\\site-packages (from bleach!=5.0.0->nbconvert>=6.0->jupyter_contrib_nbextensions) (0.5.1)\n",
      "Requirement already satisfied: zipp>=0.5 in c:\\users\\rashi\\appdata\\local\\programs\\python\\python39\\lib\\site-packages (from importlib-metadata>=3.6->nbconvert>=6.0->jupyter_contrib_nbextensions) (3.16.2)\n",
      "Requirement already satisfied: anyio>=3.1.0 in c:\\users\\rashi\\appdata\\local\\programs\\python\\python39\\lib\\site-packages (from jupyter-server->jupyter-nbextensions-configurator>=0.4.0->jupyter_contrib_nbextensions) (3.7.1)\n",
      "Requirement already satisfied: argon2-cffi>=21.1 in c:\\users\\rashi\\appdata\\local\\programs\\python\\python39\\lib\\site-packages (from jupyter-server->jupyter-nbextensions-configurator>=0.4.0->jupyter_contrib_nbextensions) (21.3.0)\n",
      "Requirement already satisfied: jupyter-client>=7.4.4 in c:\\users\\rashi\\appdata\\local\\programs\\python\\python39\\lib\\site-packages (from jupyter-server->jupyter-nbextensions-configurator>=0.4.0->jupyter_contrib_nbextensions) (7.4.9)\n",
      "Requirement already satisfied: jupyter-events>=0.9.0 in c:\\users\\rashi\\appdata\\local\\programs\\python\\python39\\lib\\site-packages (from jupyter-server->jupyter-nbextensions-configurator>=0.4.0->jupyter_contrib_nbextensions) (0.10.0)\n",
      "Requirement already satisfied: jupyter-server-terminals>=0.4.4 in c:\\users\\rashi\\appdata\\local\\programs\\python\\python39\\lib\\site-packages (from jupyter-server->jupyter-nbextensions-configurator>=0.4.0->jupyter_contrib_nbextensions) (0.5.3)\n",
      "Requirement already satisfied: overrides>=5.0 in c:\\users\\rashi\\appdata\\local\\programs\\python\\python39\\lib\\site-packages (from jupyter-server->jupyter-nbextensions-configurator>=0.4.0->jupyter_contrib_nbextensions) (7.7.0)\n",
      "Requirement already satisfied: prometheus-client>=0.9 in c:\\users\\rashi\\appdata\\local\\programs\\python\\python39\\lib\\site-packages (from jupyter-server->jupyter-nbextensions-configurator>=0.4.0->jupyter_contrib_nbextensions) (0.12.0)\n",
      "Requirement already satisfied: pywinpty>=2.0.1 in c:\\users\\rashi\\appdata\\local\\programs\\python\\python39\\lib\\site-packages (from jupyter-server->jupyter-nbextensions-configurator>=0.4.0->jupyter_contrib_nbextensions) (2.0.13)\n",
      "Requirement already satisfied: pyzmq>=24 in c:\\users\\rashi\\appdata\\local\\programs\\python\\python39\\lib\\site-packages (from jupyter-server->jupyter-nbextensions-configurator>=0.4.0->jupyter_contrib_nbextensions) (26.0.3)\n",
      "Requirement already satisfied: send2trash>=1.8.2 in c:\\users\\rashi\\appdata\\local\\programs\\python\\python39\\lib\\site-packages (from jupyter-server->jupyter-nbextensions-configurator>=0.4.0->jupyter_contrib_nbextensions) (1.8.3)\n",
      "Requirement already satisfied: terminado>=0.8.3 in c:\\users\\rashi\\appdata\\local\\programs\\python\\python39\\lib\\site-packages (from jupyter-server->jupyter-nbextensions-configurator>=0.4.0->jupyter_contrib_nbextensions) (0.12.1)\n",
      "Requirement already satisfied: websocket-client>=1.7 in c:\\users\\rashi\\appdata\\local\\programs\\python\\python39\\lib\\site-packages (from jupyter-server->jupyter-nbextensions-configurator>=0.4.0->jupyter_contrib_nbextensions) (1.8.0)\n",
      "Requirement already satisfied: async-lru>=1.0.0 in c:\\users\\rashi\\appdata\\local\\programs\\python\\python39\\lib\\site-packages (from jupyterlab<4.3,>=4.2.0->notebook>=6.0->jupyter_contrib_nbextensions) (2.0.4)\n",
      "Requirement already satisfied: httpx>=0.25.0 in c:\\users\\rashi\\appdata\\local\\programs\\python\\python39\\lib\\site-packages (from jupyterlab<4.3,>=4.2.0->notebook>=6.0->jupyter_contrib_nbextensions) (0.27.0)\n",
      "Requirement already satisfied: ipykernel>=6.5.0 in c:\\users\\rashi\\appdata\\local\\programs\\python\\python39\\lib\\site-packages (from jupyterlab<4.3,>=4.2.0->notebook>=6.0->jupyter_contrib_nbextensions) (6.6.1)\n",
      "Requirement already satisfied: jupyter-lsp>=2.0.0 in c:\\users\\rashi\\appdata\\local\\programs\\python\\python39\\lib\\site-packages (from jupyterlab<4.3,>=4.2.0->notebook>=6.0->jupyter_contrib_nbextensions) (2.2.5)\n",
      "Requirement already satisfied: tomli>=1.2.2 in c:\\users\\rashi\\appdata\\local\\programs\\python\\python39\\lib\\site-packages (from jupyterlab<4.3,>=4.2.0->notebook>=6.0->jupyter_contrib_nbextensions) (2.0.1)\n",
      "Requirement already satisfied: babel>=2.10 in c:\\users\\rashi\\appdata\\local\\programs\\python\\python39\\lib\\site-packages (from jupyterlab-server<3,>=2.27.1->notebook>=6.0->jupyter_contrib_nbextensions) (2.15.0)\n",
      "Requirement already satisfied: json5>=0.9.0 in c:\\users\\rashi\\appdata\\local\\programs\\python\\python39\\lib\\site-packages (from jupyterlab-server<3,>=2.27.1->notebook>=6.0->jupyter_contrib_nbextensions) (0.9.25)\n",
      "Requirement already satisfied: jsonschema>=4.18.0 in c:\\users\\rashi\\appdata\\local\\programs\\python\\python39\\lib\\site-packages (from jupyterlab-server<3,>=2.27.1->notebook>=6.0->jupyter_contrib_nbextensions) (4.22.0)\n",
      "Requirement already satisfied: requests>=2.31 in c:\\users\\rashi\\appdata\\local\\programs\\python\\python39\\lib\\site-packages (from jupyterlab-server<3,>=2.27.1->notebook>=6.0->jupyter_contrib_nbextensions) (2.32.3)\n",
      "Requirement already satisfied: nest-asyncio in c:\\users\\rashi\\appdata\\local\\programs\\python\\python39\\lib\\site-packages (from nbclient>=0.5.0->nbconvert>=6.0->jupyter_contrib_nbextensions) (1.5.4)\n",
      "Requirement already satisfied: fastjsonschema>=2.15 in c:\\users\\rashi\\appdata\\local\\programs\\python\\python39\\lib\\site-packages (from nbformat>=5.7->nbconvert>=6.0->jupyter_contrib_nbextensions) (2.20.0)\n",
      "Requirement already satisfied: soupsieve>1.2 in c:\\users\\rashi\\appdata\\local\\programs\\python\\python39\\lib\\site-packages (from beautifulsoup4->nbconvert>=6.0->jupyter_contrib_nbextensions) (2.5)\n",
      "Requirement already satisfied: idna>=2.8 in c:\\users\\rashi\\appdata\\local\\programs\\python\\python39\\lib\\site-packages (from anyio>=3.1.0->jupyter-server->jupyter-nbextensions-configurator>=0.4.0->jupyter_contrib_nbextensions) (3.2)\n",
      "Requirement already satisfied: sniffio>=1.1 in c:\\users\\rashi\\appdata\\local\\programs\\python\\python39\\lib\\site-packages (from anyio>=3.1.0->jupyter-server->jupyter-nbextensions-configurator>=0.4.0->jupyter_contrib_nbextensions) (1.2.0)\n",
      "Requirement already satisfied: exceptiongroup in c:\\users\\rashi\\appdata\\local\\programs\\python\\python39\\lib\\site-packages (from anyio>=3.1.0->jupyter-server->jupyter-nbextensions-configurator>=0.4.0->jupyter_contrib_nbextensions) (1.1.3)\n",
      "Requirement already satisfied: argon2-cffi-bindings in c:\\users\\rashi\\appdata\\local\\programs\\python\\python39\\lib\\site-packages (from argon2-cffi>=21.1->jupyter-server->jupyter-nbextensions-configurator>=0.4.0->jupyter_contrib_nbextensions) (21.2.0)\n",
      "Requirement already satisfied: typing-extensions>=4.0.0 in c:\\users\\rashi\\appdata\\local\\programs\\python\\python39\\lib\\site-packages (from async-lru>=1.0.0->jupyterlab<4.3,>=4.2.0->notebook>=6.0->jupyter_contrib_nbextensions) (4.7.1)\n",
      "Requirement already satisfied: certifi in c:\\users\\rashi\\appdata\\local\\programs\\python\\python39\\lib\\site-packages (from httpx>=0.25.0->jupyterlab<4.3,>=4.2.0->notebook>=6.0->jupyter_contrib_nbextensions) (2021.5.30)\n",
      "Requirement already satisfied: httpcore==1.* in c:\\users\\rashi\\appdata\\local\\programs\\python\\python39\\lib\\site-packages (from httpx>=0.25.0->jupyterlab<4.3,>=4.2.0->notebook>=6.0->jupyter_contrib_nbextensions) (1.0.5)\n",
      "Requirement already satisfied: h11<0.15,>=0.13 in c:\\users\\rashi\\appdata\\local\\programs\\python\\python39\\lib\\site-packages (from httpcore==1.*->httpx>=0.25.0->jupyterlab<4.3,>=4.2.0->notebook>=6.0->jupyter_contrib_nbextensions) (0.14.0)\n",
      "Requirement already satisfied: debugpy<2.0,>=1.0.0 in c:\\users\\rashi\\appdata\\local\\programs\\python\\python39\\lib\\site-packages (from ipykernel>=6.5.0->jupyterlab<4.3,>=4.2.0->notebook>=6.0->jupyter_contrib_nbextensions) (1.5.1)\n",
      "Requirement already satisfied: ipython>=7.23.1 in c:\\users\\rashi\\appdata\\local\\programs\\python\\python39\\lib\\site-packages (from ipykernel>=6.5.0->jupyterlab<4.3,>=4.2.0->notebook>=6.0->jupyter_contrib_nbextensions) (7.31.0)\n",
      "Requirement already satisfied: matplotlib-inline<0.2.0,>=0.1.0 in c:\\users\\rashi\\appdata\\local\\programs\\python\\python39\\lib\\site-packages (from ipykernel>=6.5.0->jupyterlab<4.3,>=4.2.0->notebook>=6.0->jupyter_contrib_nbextensions) (0.1.3)\n",
      "Requirement already satisfied: attrs>=22.2.0 in c:\\users\\rashi\\appdata\\local\\programs\\python\\python39\\lib\\site-packages (from jsonschema>=4.18.0->jupyterlab-server<3,>=2.27.1->notebook>=6.0->jupyter_contrib_nbextensions) (23.2.0)\n",
      "Requirement already satisfied: jsonschema-specifications>=2023.03.6 in c:\\users\\rashi\\appdata\\local\\programs\\python\\python39\\lib\\site-packages (from jsonschema>=4.18.0->jupyterlab-server<3,>=2.27.1->notebook>=6.0->jupyter_contrib_nbextensions) (2023.12.1)\n",
      "Requirement already satisfied: referencing>=0.28.4 in c:\\users\\rashi\\appdata\\local\\programs\\python\\python39\\lib\\site-packages (from jsonschema>=4.18.0->jupyterlab-server<3,>=2.27.1->notebook>=6.0->jupyter_contrib_nbextensions) (0.35.1)\n",
      "Requirement already satisfied: rpds-py>=0.7.1 in c:\\users\\rashi\\appdata\\local\\programs\\python\\python39\\lib\\site-packages (from jsonschema>=4.18.0->jupyterlab-server<3,>=2.27.1->notebook>=6.0->jupyter_contrib_nbextensions) (0.18.1)\n",
      "Requirement already satisfied: entrypoints in c:\\users\\rashi\\appdata\\local\\programs\\python\\python39\\lib\\site-packages (from jupyter-client>=7.4.4->jupyter-server->jupyter-nbextensions-configurator>=0.4.0->jupyter_contrib_nbextensions) (0.3)\n",
      "Requirement already satisfied: python-dateutil>=2.8.2 in c:\\users\\rashi\\appdata\\local\\programs\\python\\python39\\lib\\site-packages (from jupyter-client>=7.4.4->jupyter-server->jupyter-nbextensions-configurator>=0.4.0->jupyter_contrib_nbextensions) (2.8.2)\n",
      "Requirement already satisfied: python-json-logger>=2.0.4 in c:\\users\\rashi\\appdata\\local\\programs\\python\\python39\\lib\\site-packages (from jupyter-events>=0.9.0->jupyter-server->jupyter-nbextensions-configurator>=0.4.0->jupyter_contrib_nbextensions) (2.0.7)\n",
      "Requirement already satisfied: rfc3339-validator in c:\\users\\rashi\\appdata\\local\\programs\\python\\python39\\lib\\site-packages (from jupyter-events>=0.9.0->jupyter-server->jupyter-nbextensions-configurator>=0.4.0->jupyter_contrib_nbextensions) (0.1.4)\n",
      "Requirement already satisfied: rfc3986-validator>=0.1.1 in c:\\users\\rashi\\appdata\\local\\programs\\python\\python39\\lib\\site-packages (from jupyter-events>=0.9.0->jupyter-server->jupyter-nbextensions-configurator>=0.4.0->jupyter_contrib_nbextensions) (0.1.1)\n",
      "Requirement already satisfied: charset-normalizer<4,>=2 in c:\\users\\rashi\\appdata\\local\\programs\\python\\python39\\lib\\site-packages (from requests>=2.31->jupyterlab-server<3,>=2.27.1->notebook>=6.0->jupyter_contrib_nbextensions) (2.0.6)\n",
      "Requirement already satisfied: urllib3<3,>=1.21.1 in c:\\users\\rashi\\appdata\\local\\programs\\python\\python39\\lib\\site-packages (from requests>=2.31->jupyterlab-server<3,>=2.27.1->notebook>=6.0->jupyter_contrib_nbextensions) (1.26.6)\n",
      "Requirement already satisfied: jedi>=0.16 in c:\\users\\rashi\\appdata\\local\\programs\\python\\python39\\lib\\site-packages (from ipython>=7.23.1->ipykernel>=6.5.0->jupyterlab<4.3,>=4.2.0->notebook>=6.0->jupyter_contrib_nbextensions) (0.17.2)\n",
      "Requirement already satisfied: decorator in c:\\users\\rashi\\appdata\\local\\programs\\python\\python39\\lib\\site-packages (from ipython>=7.23.1->ipykernel>=6.5.0->jupyterlab<4.3,>=4.2.0->notebook>=6.0->jupyter_contrib_nbextensions) (5.1.0)\n",
      "Requirement already satisfied: pickleshare in c:\\users\\rashi\\appdata\\local\\programs\\python\\python39\\lib\\site-packages (from ipython>=7.23.1->ipykernel>=6.5.0->jupyterlab<4.3,>=4.2.0->notebook>=6.0->jupyter_contrib_nbextensions) (0.7.5)\n",
      "Requirement already satisfied: prompt-toolkit!=3.0.0,!=3.0.1,<3.1.0,>=2.0.0 in c:\\users\\rashi\\appdata\\local\\programs\\python\\python39\\lib\\site-packages (from ipython>=7.23.1->ipykernel>=6.5.0->jupyterlab<4.3,>=4.2.0->notebook>=6.0->jupyter_contrib_nbextensions) (3.0.24)\n",
      "Requirement already satisfied: backcall in c:\\users\\rashi\\appdata\\local\\programs\\python\\python39\\lib\\site-packages (from ipython>=7.23.1->ipykernel>=6.5.0->jupyterlab<4.3,>=4.2.0->notebook>=6.0->jupyter_contrib_nbextensions) (0.2.0)\n",
      "Requirement already satisfied: colorama in c:\\users\\rashi\\appdata\\roaming\\python\\python39\\site-packages (from ipython>=7.23.1->ipykernel>=6.5.0->jupyterlab<4.3,>=4.2.0->notebook>=6.0->jupyter_contrib_nbextensions) (0.4.4)\n",
      "Requirement already satisfied: fqdn in c:\\users\\rashi\\appdata\\local\\programs\\python\\python39\\lib\\site-packages (from jsonschema[format-nongpl]>=4.18.0->jupyter-events>=0.9.0->jupyter-server->jupyter-nbextensions-configurator>=0.4.0->jupyter_contrib_nbextensions) (1.5.1)\n",
      "Requirement already satisfied: isoduration in c:\\users\\rashi\\appdata\\local\\programs\\python\\python39\\lib\\site-packages (from jsonschema[format-nongpl]>=4.18.0->jupyter-events>=0.9.0->jupyter-server->jupyter-nbextensions-configurator>=0.4.0->jupyter_contrib_nbextensions) (20.11.0)\n",
      "Requirement already satisfied: jsonpointer>1.13 in c:\\users\\rashi\\appdata\\local\\programs\\python\\python39\\lib\\site-packages (from jsonschema[format-nongpl]>=4.18.0->jupyter-events>=0.9.0->jupyter-server->jupyter-nbextensions-configurator>=0.4.0->jupyter_contrib_nbextensions) (3.0.0)\n",
      "Requirement already satisfied: uri-template in c:\\users\\rashi\\appdata\\local\\programs\\python\\python39\\lib\\site-packages (from jsonschema[format-nongpl]>=4.18.0->jupyter-events>=0.9.0->jupyter-server->jupyter-nbextensions-configurator>=0.4.0->jupyter_contrib_nbextensions) (1.3.0)\n",
      "Requirement already satisfied: webcolors>=1.11 in c:\\users\\rashi\\appdata\\local\\programs\\python\\python39\\lib\\site-packages (from jsonschema[format-nongpl]>=4.18.0->jupyter-events>=0.9.0->jupyter-server->jupyter-nbextensions-configurator>=0.4.0->jupyter_contrib_nbextensions) (24.6.0)\n",
      "Requirement already satisfied: cffi>=1.0.1 in c:\\users\\rashi\\appdata\\local\\programs\\python\\python39\\lib\\site-packages (from argon2-cffi-bindings->argon2-cffi>=21.1->jupyter-server->jupyter-nbextensions-configurator>=0.4.0->jupyter_contrib_nbextensions) (1.15.0)\n",
      "Requirement already satisfied: pycparser in c:\\users\\rashi\\appdata\\local\\programs\\python\\python39\\lib\\site-packages (from cffi>=1.0.1->argon2-cffi-bindings->argon2-cffi>=21.1->jupyter-server->jupyter-nbextensions-configurator>=0.4.0->jupyter_contrib_nbextensions) (2.21)\n",
      "Requirement already satisfied: parso<0.8.0,>=0.7.0 in c:\\users\\rashi\\appdata\\local\\programs\\python\\python39\\lib\\site-packages (from jedi>=0.16->ipython>=7.23.1->ipykernel>=6.5.0->jupyterlab<4.3,>=4.2.0->notebook>=6.0->jupyter_contrib_nbextensions) (0.7.1)\n",
      "Requirement already satisfied: wcwidth in c:\\users\\rashi\\appdata\\local\\programs\\python\\python39\\lib\\site-packages (from prompt-toolkit!=3.0.0,!=3.0.1,<3.1.0,>=2.0.0->ipython>=7.23.1->ipykernel>=6.5.0->jupyterlab<4.3,>=4.2.0->notebook>=6.0->jupyter_contrib_nbextensions) (0.2.5)\n",
      "Requirement already satisfied: arrow>=0.15.0 in c:\\users\\rashi\\appdata\\local\\programs\\python\\python39\\lib\\site-packages (from isoduration->jsonschema[format-nongpl]>=4.18.0->jupyter-events>=0.9.0->jupyter-server->jupyter-nbextensions-configurator>=0.4.0->jupyter_contrib_nbextensions) (1.3.0)\n",
      "Requirement already satisfied: types-python-dateutil>=2.8.10 in c:\\users\\rashi\\appdata\\local\\programs\\python\\python39\\lib\\site-packages (from arrow>=0.15.0->isoduration->jsonschema[format-nongpl]>=4.18.0->jupyter-events>=0.9.0->jupyter-server->jupyter-nbextensions-configurator>=0.4.0->jupyter_contrib_nbextensions) (2.9.0.20240316)\n",
      "Downloading jupyter_highlight_selected_word-0.2.0-py2.py3-none-any.whl (11 kB)\n",
      "Downloading jupyter_nbextensions_configurator-0.6.4-py2.py3-none-any.whl (466 kB)\n",
      "   -------------------------------------- 466.9/466.9 kB 649.6 kB/s eta 0:00:00\n",
      "Building wheels for collected packages: jupyter_contrib_nbextensions, jupyter-contrib-core\n",
      "  Building wheel for jupyter_contrib_nbextensions (pyproject.toml): started\n",
      "  Building wheel for jupyter_contrib_nbextensions (pyproject.toml): finished with status 'done'\n",
      "  Created wheel for jupyter_contrib_nbextensions: filename=jupyter_contrib_nbextensions-0.7.0-py2.py3-none-any.whl size=23428797 sha256=3a07ab6854deaede94c57a4f08028e0d24f66f30e8d26026dcdb8920795b3a08\n",
      "  Stored in directory: c:\\users\\rashi\\appdata\\local\\pip\\cache\\wheels\\e7\\99\\91\\7f24a075786a6760f3ac32ab5fa92e1d1a90e0d2cd8958adfd\n",
      "  Building wheel for jupyter-contrib-core (pyproject.toml): started\n",
      "  Building wheel for jupyter-contrib-core (pyproject.toml): finished with status 'done'\n",
      "  Created wheel for jupyter-contrib-core: filename=jupyter_contrib_core-0.4.2-py2.py3-none-any.whl size=17492 sha256=43fa744af74199ed9e14b1eb62b0fa5fcb065dce4e87f1d73cafa8712d3b627c\n",
      "  Stored in directory: c:\\users\\rashi\\appdata\\local\\pip\\cache\\wheels\\57\\9f\\80\\32c07b8a950a45f6cf8cd5980c22a27ce514c27b795250e497\n",
      "Successfully built jupyter_contrib_nbextensions jupyter-contrib-core\n",
      "Installing collected packages: jupyter-highlight-selected-word, jupyter-contrib-core, jupyter-nbextensions-configurator, jupyter_contrib_nbextensions\n",
      "Successfully installed jupyter-contrib-core-0.4.2 jupyter-highlight-selected-word-0.2.0 jupyter-nbextensions-configurator-0.6.4 jupyter_contrib_nbextensions-0.7.0\n"
     ]
    }
   ],
   "source": [
    "!pip install jupyter_contrib_nbextensions"
   ]
  },
  {
   "cell_type": "code",
   "execution_count": 6,
   "id": "20d1a7b7-ac24-43c1-b4de-4dee6530a5d8",
   "metadata": {},
   "outputs": [
    {
     "name": "stderr",
     "output_type": "stream",
     "text": [
      "'jupyter_contrib_nbextensions' is not recognized as an internal or external command,\n",
      "operable program or batch file.\n"
     ]
    }
   ],
   "source": [
    "!jupyter_contrib_nbextensions install --user"
   ]
  },
  {
   "cell_type": "code",
   "execution_count": 7,
   "id": "28b0b173-d063-42ca-bb24-4ec5bae5ecd0",
   "metadata": {},
   "outputs": [
    {
     "ename": "SyntaxError",
     "evalue": "invalid syntax (Temp/ipykernel_14908/1639211862.py, line 1)",
     "output_type": "error",
     "traceback": [
      "\u001b[1;36m  File \u001b[1;32m\"C:\\Users\\rashi\\AppData\\Local\\Temp/ipykernel_14908/1639211862.py\"\u001b[1;36m, line \u001b[1;32m1\u001b[0m\n\u001b[1;33m    jupyter contrib nbextension install --user\u001b[0m\n\u001b[1;37m            ^\u001b[0m\n\u001b[1;31mSyntaxError\u001b[0m\u001b[1;31m:\u001b[0m invalid syntax\n"
     ]
    }
   ],
   "source": [
    "jupyter contrib nbextension install --user"
   ]
  },
  {
   "cell_type": "code",
   "execution_count": 8,
   "id": "603f9d6e-5284-4275-bbed-212069860b10",
   "metadata": {},
   "outputs": [
    {
     "name": "stderr",
     "output_type": "stream",
     "text": [
      "Traceback (most recent call last):\n",
      "  File \"C:\\Users\\rashi\\AppData\\Local\\Programs\\Python\\Python39\\lib\\site-packages\\jupyter_contrib_core\\notebook_compat\\nbextensions.py\", line 6, in <module>\n",
      "    from notebook.extensions import BaseExtensionApp\n",
      "ModuleNotFoundError: No module named 'notebook.extensions'\n",
      "\n",
      "During handling of the above exception, another exception occurred:\n",
      "\n",
      "Traceback (most recent call last):\n",
      "  File \"C:\\Users\\rashi\\AppData\\Local\\Programs\\Python\\Python39\\lib\\site-packages\\jupyter_contrib_core\\notebook_compat\\nbextensions.py\", line 10, in <module>\n",
      "    from notebook.nbextensions import BaseNBExtensionApp\n",
      "ModuleNotFoundError: No module named 'notebook.nbextensions'\n",
      "\n",
      "During handling of the above exception, another exception occurred:\n",
      "\n",
      "Traceback (most recent call last):\n",
      "  File \"C:\\Users\\rashi\\AppData\\Local\\Programs\\Python\\Python39\\lib\\runpy.py\", line 197, in _run_module_as_main\n",
      "    return _run_code(code, main_globals, None,\n",
      "  File \"C:\\Users\\rashi\\AppData\\Local\\Programs\\Python\\Python39\\lib\\runpy.py\", line 87, in _run_code\n",
      "    exec(code, run_globals)\n",
      "  File \"C:\\Users\\rashi\\AppData\\Local\\Programs\\Python\\Python39\\Scripts\\jupyter-contrib.EXE\\__main__.py\", line 7, in <module>\n",
      "  File \"C:\\Users\\rashi\\AppData\\Local\\Programs\\Python\\Python39\\lib\\site-packages\\jupyter_core\\application.py\", line 283, in launch_instance\n",
      "    super().launch_instance(argv=argv, **kwargs)\n",
      "  File \"C:\\Users\\rashi\\AppData\\Local\\Programs\\Python\\Python39\\lib\\site-packages\\traitlets\\config\\application.py\", line 1073, in launch_instance\n",
      "    app = cls.instance(**kwargs)\n",
      "  File \"C:\\Users\\rashi\\AppData\\Local\\Programs\\Python\\Python39\\lib\\site-packages\\traitlets\\config\\configurable.py\", line 583, in instance\n",
      "    inst = cls(*args, **kwargs)\n",
      "  File \"C:\\Users\\rashi\\AppData\\Local\\Programs\\Python\\Python39\\lib\\site-packages\\jupyter_contrib_core\\application.py\", line 27, in __init__\n",
      "    self._refresh_subcommands()\n",
      "  File \"C:\\Users\\rashi\\AppData\\Local\\Programs\\Python\\Python39\\lib\\site-packages\\jupyter_contrib_core\\application.py\", line 43, in _refresh_subcommands\n",
      "    get_subcommands_dict = entrypoint.load()\n",
      "  File \"C:\\Users\\rashi\\AppData\\Local\\Programs\\Python\\Python39\\lib\\site-packages\\pkg_resources\\__init__.py\", line 2450, in load\n",
      "    return self.resolve()\n",
      "  File \"C:\\Users\\rashi\\AppData\\Local\\Programs\\Python\\Python39\\lib\\site-packages\\pkg_resources\\__init__.py\", line 2456, in resolve\n",
      "    module = __import__(self.module_name, fromlist=['__name__'], level=0)\n",
      "  File \"C:\\Users\\rashi\\AppData\\Local\\Programs\\Python\\Python39\\lib\\site-packages\\jupyter_contrib_nbextensions\\application.py\", line 7, in <module>\n",
      "    from jupyter_contrib_core.notebook_compat.nbextensions import ArgumentConflict\n",
      "  File \"C:\\Users\\rashi\\AppData\\Local\\Programs\\Python\\Python39\\lib\\site-packages\\jupyter_contrib_core\\notebook_compat\\nbextensions.py\", line 12, in <module>\n",
      "    from ._compat.nbextensions import BaseNBExtensionApp\n",
      "  File \"C:\\Users\\rashi\\AppData\\Local\\Programs\\Python\\Python39\\lib\\site-packages\\jupyter_contrib_core\\notebook_compat\\_compat\\nbextensions.py\", line 35, in <module>\n",
      "    from notebook.nbextensions import (\n",
      "ModuleNotFoundError: No module named 'notebook.nbextensions'\n"
     ]
    }
   ],
   "source": [
    "!jupyter contrib nbextension install --user"
   ]
  },
  {
   "cell_type": "code",
   "execution_count": null,
   "id": "9c63e59d-6cb3-45dc-bd13-63256bbd3563",
   "metadata": {},
   "outputs": [],
   "source": []
  }
 ],
 "metadata": {
  "kernelspec": {
   "display_name": "Python 3 (ipykernel)",
   "language": "python",
   "name": "python3"
  },
  "language_info": {
   "codemirror_mode": {
    "name": "ipython",
    "version": 3
   },
   "file_extension": ".py",
   "mimetype": "text/x-python",
   "name": "python",
   "nbconvert_exporter": "python",
   "pygments_lexer": "ipython3",
   "version": "3.9.7"
  }
 },
 "nbformat": 4,
 "nbformat_minor": 5
}
