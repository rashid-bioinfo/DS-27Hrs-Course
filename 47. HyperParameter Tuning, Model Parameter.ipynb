{
 "cells": [
  {
   "cell_type": "markdown",
   "id": "ea834367-8ee8-4347-bbba-f96c5010ea25",
   "metadata": {},
   "source": [
    "# 47. HyperParameter Tuning, Model Parameter"
   ]
  },
  {
   "cell_type": "markdown",
   "id": "40e62b6d-d924-453f-82ad-dc0b8b1fec8f",
   "metadata": {},
   "source": [
    "## 47.1 What is a model parameter"
   ]
  },
  {
   "cell_type": "markdown",
   "id": "a7f62c1b-eff2-4836-a3d3-3d7f5986d125",
   "metadata": {},
   "source": [
    "**Model Parameter** are configuration varaibles that are internal to the model, and a model learns them on its own."
   ]
  },
  {
   "cell_type": "markdown",
   "id": "4d43a299-ef41-4ae8-aa11-963706f1b204",
   "metadata": {},
   "source": [
    "In following equation:\n",
    "$$\n",
    "\\text{y = mx + c}\n",
    "$$\n",
    "**m** and **c** are model parameters"
   ]
  },
  {
   "cell_type": "markdown",
   "id": "80ff025c-d918-4fcc-9e28-a1f3a457c926",
   "metadata": {},
   "source": [
    "## 47.2 Hyperparameter"
   ]
  },
  {
   "cell_type": "markdown",
   "id": "4248b669-437b-4698-a795-d158516f18bd",
   "metadata": {},
   "source": [
    "- **Hyperparameters** are those parameters that are explicitly defined by the user to control the learning process.\n",
    "- The best value can be determined either by the rule of thumb or by trial and error.\n",
    "- These are usually default parameters."
   ]
  },
  {
   "cell_type": "markdown",
   "id": "9bdddc75-5bcf-4020-bb02-5e3e2e761dd2",
   "metadata": {},
   "source": [
    "<img src=\"Images/hyperparameter.jpg\"  style=\"width: 500px;\"/>"
   ]
  },
  {
   "cell_type": "markdown",
   "id": "588fa90a-5810-48d0-b859-22152a97b115",
   "metadata": {},
   "source": [
    "**Hyperparameter Tuning:** Models can have many hyperparameters and finding the best combination of parameters can be treated as a search problem. The two best strategies for Hyperparameter tuning are:\n",
    "1) GridSearchCV\n",
    "2) RandomizedSearchCV"
   ]
  },
  {
   "cell_type": "markdown",
   "id": "994c3218-1b65-484d-a552-a987523974a2",
   "metadata": {},
   "source": [
    "### 47.2.1 GridSearchCV"
   ]
  },
  {
   "cell_type": "markdown",
   "id": "77b46584-615c-4e68-b006-6aa6f8d73b95",
   "metadata": {},
   "source": [
    "- GridSearchCV is a technique to search through the best parameter values from the given set of the grid of parameters\n",
    "- slower processing in case of large data"
   ]
  },
  {
   "cell_type": "markdown",
   "id": "57871b5d-5fcd-4075-bb36-57c518bf9551",
   "metadata": {},
   "source": [
    "<img src=\"Images/hyperparameter-2.jpg\"  style=\"width: 500px;\"/>"
   ]
  },
  {
   "cell_type": "markdown",
   "id": "ceda3943-8714-44b9-a836-8bd84aeb65d9",
   "metadata": {},
   "source": [
    "### 47.2.2 RandomizedSearchCV"
   ]
  },
  {
   "cell_type": "markdown",
   "id": "deacefd9-69dd-48da-a9d9-ef7c3fc02772",
   "metadata": {},
   "source": [
    "- It goes through only a fixed number of hyperparameter settings\n",
    "- It moves within the grid in a random fashion to find the best set of hyperparameters"
   ]
  },
  {
   "cell_type": "code",
   "execution_count": null,
   "id": "3fe40fe5-2293-47f1-aa8e-f1dc9c12c555",
   "metadata": {},
   "outputs": [],
   "source": []
  }
 ],
 "metadata": {
  "kernelspec": {
   "display_name": "Python 3 (ipykernel)",
   "language": "python",
   "name": "python3"
  },
  "language_info": {
   "codemirror_mode": {
    "name": "ipython",
    "version": 3
   },
   "file_extension": ".py",
   "mimetype": "text/x-python",
   "name": "python",
   "nbconvert_exporter": "python",
   "pygments_lexer": "ipython3",
   "version": "3.9.7"
  }
 },
 "nbformat": 4,
 "nbformat_minor": 5
}
