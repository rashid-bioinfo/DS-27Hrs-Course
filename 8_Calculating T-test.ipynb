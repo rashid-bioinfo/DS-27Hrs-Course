{
 "cells": [
  {
   "cell_type": "markdown",
   "id": "9ac122e9-d7b8-40fd-adbc-13cbda9df838",
   "metadata": {},
   "source": [
    "## 8_Calculating T-test"
   ]
  },
  {
   "cell_type": "code",
   "execution_count": 17,
   "id": "d2c342aa-44be-402d-a733-20fe3466c95f",
   "metadata": {},
   "outputs": [],
   "source": [
    "import scipy.stats as st\n",
    "import numpy as np"
   ]
  },
  {
   "cell_type": "code",
   "execution_count": 18,
   "id": "af295ecd-9989-4979-a683-80fbf2ce0631",
   "metadata": {},
   "outputs": [],
   "source": [
    "Ho = \"Weight of bag is 150gm\"\n",
    "Ha = \"Weight of bag is less than 150gm\""
   ]
  },
  {
   "cell_type": "code",
   "execution_count": 19,
   "id": "23af740a-dc20-4d16-b871-68434d9aa60c",
   "metadata": {},
   "outputs": [
    {
     "data": {
      "text/plain": [
       "-1.7108820799094282"
      ]
     },
     "execution_count": 19,
     "metadata": {},
     "output_type": "execute_result"
    }
   ],
   "source": [
    "t_table = st.t.ppf(0.05,24)\n",
    "t_table"
   ]
  },
  {
   "cell_type": "code",
   "execution_count": 20,
   "id": "10f9e77f-b219-40cc-a12c-a5ae56bccb14",
   "metadata": {},
   "outputs": [],
   "source": [
    "u_p = 150\n",
    "x_s = 148\n",
    "n_s = 25\n",
    "std_s = 5"
   ]
  },
  {
   "cell_type": "code",
   "execution_count": 21,
   "id": "55bbd58d-9c01-4be6-8585-547a6340ea50",
   "metadata": {},
   "outputs": [
    {
     "data": {
      "text/plain": [
       "-2.0"
      ]
     },
     "execution_count": 21,
     "metadata": {},
     "output_type": "execute_result"
    }
   ],
   "source": [
    "t_cal = (x_s - u_p)/(std_s/np.sqrt(n_s))\n",
    "t_cal"
   ]
  },
  {
   "cell_type": "code",
   "execution_count": 22,
   "id": "fc7c8f67-4a01-4084-ad23-d76e48e17853",
   "metadata": {},
   "outputs": [
    {
     "name": "stdout",
     "output_type": "stream",
     "text": [
      "Weight of bag is less than 150gm\n"
     ]
    }
   ],
   "source": [
    "if t_table > t_cal:\n",
    "    print(Ha)\n",
    "else:\n",
    "    print(Ho)"
   ]
  },
  {
   "cell_type": "code",
   "execution_count": null,
   "id": "a2cf4827-3db0-4b35-8e98-7f1f6f484b02",
   "metadata": {},
   "outputs": [],
   "source": []
  }
 ],
 "metadata": {
  "kernelspec": {
   "display_name": "Python 3 (ipykernel)",
   "language": "python",
   "name": "python3"
  },
  "language_info": {
   "codemirror_mode": {
    "name": "ipython",
    "version": 3
   },
   "file_extension": ".py",
   "mimetype": "text/x-python",
   "name": "python",
   "nbconvert_exporter": "python",
   "pygments_lexer": "ipython3",
   "version": "3.9.7"
  }
 },
 "nbformat": 4,
 "nbformat_minor": 5
}
