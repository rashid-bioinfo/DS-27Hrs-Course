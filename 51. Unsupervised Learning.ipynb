{
 "cells": [
  {
   "cell_type": "markdown",
   "id": "45034850-a4e5-4cfe-8680-61e7d278f8a8",
   "metadata": {},
   "source": [
    "# 51. Unsupervised Learning"
   ]
  },
  {
   "cell_type": "markdown",
   "id": "0751e8f8-1d8f-4965-abc4-f49e1e3d1734",
   "metadata": {},
   "source": [
    "- Unsupervised learning is a type of machine learning that learns from **unlabelled data**.\n",
    "- In labelled data, we know input and output, but in unlabelled data, we don't know about output\n",
    "- This means that the data does not have any pre-existing labels or categories\n",
    "- The goal of unsupervised learning is to discover patterns and relationships in the data w/o any explicit guidance.\n",
    "- In Unsupervised learning, we do categorization and clusttering of the data"
   ]
  },
  {
   "cell_type": "markdown",
   "id": "91e13655-0868-4c4a-bd3d-4c0b80be1e93",
   "metadata": {},
   "source": [
    "<img src=\"Images/unsupervised-learning-2.jpg\"  style=\"width: 400px;\"/>"
   ]
  },
  {
   "cell_type": "markdown",
   "id": "48c1ec3a-cd84-4913-8fc1-1569db14dd98",
   "metadata": {},
   "source": [
    "<img src=\"Images/unsupervised-learning.jpg\"  style=\"width: 500px;\"/>"
   ]
  },
  {
   "cell_type": "code",
   "execution_count": null,
   "id": "de7d70c9-b131-4ff6-bc26-84875d9ffe85",
   "metadata": {},
   "outputs": [],
   "source": []
  }
 ],
 "metadata": {
  "kernelspec": {
   "display_name": "Python 3 (ipykernel)",
   "language": "python",
   "name": "python3"
  },
  "language_info": {
   "codemirror_mode": {
    "name": "ipython",
    "version": 3
   },
   "file_extension": ".py",
   "mimetype": "text/x-python",
   "name": "python",
   "nbconvert_exporter": "python",
   "pygments_lexer": "ipython3",
   "version": "3.9.7"
  }
 },
 "nbformat": 4,
 "nbformat_minor": 5
}
